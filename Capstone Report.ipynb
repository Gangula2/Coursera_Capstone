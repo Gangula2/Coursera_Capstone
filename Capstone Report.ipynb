{
 "cells": [
  {
   "cell_type": "markdown",
   "metadata": {},
   "source": [
    "# 1. Business Problem\n",
    "\n",
    "Client seeks to establish a franchised Asian restaurant in a Toronto neighborhood. Which neighborhood would appear to be the optimal and most strategic location for the business.\n",
    "\n",
    "A client seeks to establish a franchised Asian restaurant in a Toronto neighborhood. Which neighbourhood would appear to be the optimal and most strategic location for the business operations? The objective of this capstone project is to locate the optimal neighborhood for operation. Our foundation of reasoning would be based off of spending power, distribution of ethnic group, and competition, across each neighbourhood. We will mainly be utilizing the Foursquare API and the extensive geographical and census data from Toronto's Open Data Portal."
   ]
  },
  {
   "cell_type": "markdown",
   "metadata": {},
   "source": [
    "# 2. Data\n",
    "\n",
    "#### We are going to extract Datafrom multiple sources mentioned below along the data fields being extract from each source\n",
    "\n",
    "\n",
    "Neighbourhood names, alongside their corresponding boroughs and postal codes, scraped from Wikipedia: (https://en.wikipedia.org/w/index.php?title=List_of_postal_codes_of_Canada:_M&oldid=945633050)\n",
    "* Neighborhood Name\n",
    "* Postal Code\n",
    "\n",
    "The Toronto's census data for its social demographic characteristics will be distilled from Toronto's Neighborhood Profile (https://bit.ly/2ZivgPg).\n",
    "* Total Population\n",
    "* Southeast Asian Population\n",
    "* Income\n",
    "\n",
    "Geographical coordinates of each neighbourhood: (https://cocl.us/Geospatial_data)\n",
    "* Latitude\n",
    "* Longitude\n",
    "\n",
    "The Foursquare API will be used to explore neighborhoods in Toronto, more specifically, we will be using the explore function to get the most common venue categories in each neighborhood.\n",
    "* Venue\n",
    "* Venue Category\n",
    "* Venue Latitude\n",
    "* Venue Longitude"
   ]
  },
  {
   "cell_type": "markdown",
   "metadata": {},
   "source": [
    "# 3. Methodology\n",
    "\n",
    "To be able to identify the strategic location for a restaurant, we need to first evaluate the demand and affortability of each neighbourhood. To do that we are going to analyse 3 parameters for each neighbourhood:"
   ]
  },
  {
   "cell_type": "markdown",
   "metadata": {},
   "source": [
    "#### 1. Number of Asian Restaurants per neighbourhood\n",
    "The number of existing Asian Restaurants per neighbourhood will let us know the competition in the market. An ideal neighbourhood for openining a restaurant will be one where there are average number of restaurants.\n",
    "\n",
    "![Number of Asian restaurants](Images/Number%20of%20Asian%20restaurants.png)\n",
    "\n",
    "#### 2. Number of Southeast Asians per neighbourhood\n",
    "\n",
    "![Population of Southeast Asians](Images/Population%20of%20Southeast%20Asians.png)\n",
    "\n",
    "#### 3. Average income of each neighbourhood\n",
    "\n",
    "![Average Income](Images/Average%20Income.png)\n",
    "\n"
   ]
  },
  {
   "cell_type": "markdown",
   "metadata": {},
   "source": [
    "# 4. Results\n",
    "\n",
    "After that using the K-Means clustering, we have divided the neighbourhood into 6 clusters as shown in the map below with different colors\n",
    "\n",
    "![Clustered Map](Images/Clustered%20Map.png)\n"
   ]
  },
  {
   "cell_type": "markdown",
   "metadata": {},
   "source": [
    "### Cluster 0: RED\n",
    "* HIGH Income\n",
    "* AVG number of customers\n",
    "* AVG number of competitors\n",
    "\n",
    "![Cluster 0](Images/Cluster%200.png)\n",
    "\n",
    "### Cluster 1: PURPLE\n",
    "* LOW Income\n",
    "* AVG number of customers\n",
    "* LOW number of competitors\n",
    "\n",
    "![Cluster 1](Images/Cluster%201.png)\n",
    "\n",
    "### Cluster 2: BLUE\n",
    "* LOW Income\n",
    "* HIGH number of customers\n",
    "* HIGH number of competitors\n",
    "\n",
    "![Cluster 2](Images/Cluster%202.png)\n",
    "\n",
    "### Cluster 3: CYAN\n",
    "* LOW Income\n",
    "* HIGH number of customers\n",
    "* AVG number of competitors\n",
    "\n",
    "![Cluster 3](Images/Cluster%203.png)\n",
    "\n",
    "### Cluster 4: GREEN\n",
    "* AVG Income\n",
    "* AVG number of customers\n",
    "* LOW number of competitors\n",
    "\n",
    "![Cluster 4](Images/Cluster%204.png)\n",
    "\n",
    "### Cluster 5: ORANGE\n",
    "* AVG Income\n",
    "* HIGH number of customers\n",
    "* HIGH number of competitors\n",
    "\n",
    "![Cluster 5](Images/Cluster%205.png)\n"
   ]
  },
  {
   "cell_type": "markdown",
   "metadata": {},
   "source": [
    "# 5. Discussions\n",
    "\n",
    "From the above results we can identify that the strategic location to open a restaurant is in the following order\n",
    "\n",
    "1. Cluster 0\n",
    "1. Cluster 4\n",
    "1. Cluster 1\n",
    "1. Cluster 3\n",
    "1. Cluster 5\n",
    "1. Cluster 2"
   ]
  },
  {
   "cell_type": "markdown",
   "metadata": {},
   "source": [
    "# 6. Conclusion\n",
    "We are able to conclude that we have 11 options in **Cluster 0 with RED** Color dots on the map. After going throught the table for Cluster 0, my personal opinion would be to chose **\"Humewood-Cedarvale\"** with **Neighbourhood ID - 106** as the location to open the restaurant."
   ]
  },
  {
   "cell_type": "code",
   "execution_count": null,
   "metadata": {},
   "outputs": [],
   "source": []
  }
 ],
 "metadata": {
  "kernelspec": {
   "display_name": "Python 3",
   "language": "python",
   "name": "python3"
  },
  "language_info": {
   "codemirror_mode": {
    "name": "ipython",
    "version": 3
   },
   "file_extension": ".py",
   "mimetype": "text/x-python",
   "name": "python",
   "nbconvert_exporter": "python",
   "pygments_lexer": "ipython3",
   "version": "3.7.3"
  }
 },
 "nbformat": 4,
 "nbformat_minor": 2
}
