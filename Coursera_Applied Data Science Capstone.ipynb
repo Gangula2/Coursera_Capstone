{
 "cells": [
  {
   "cell_type": "markdown",
   "metadata": {},
   "source": [
    "# Coursera - Applied Data Science Capstone"
   ]
  },
  {
   "cell_type": "markdown",
   "metadata": {},
   "source": [
    "### This Notebook will be mainly used for the Applied Data Science Capstone project from Coursera"
   ]
  },
  {
   "cell_type": "code",
   "execution_count": 1,
   "metadata": {},
   "outputs": [],
   "source": [
    "import pandas as pd\n",
    "import numpy as np"
   ]
  },
  {
   "cell_type": "code",
   "execution_count": 2,
   "metadata": {},
   "outputs": [
    {
     "name": "stdout",
     "output_type": "stream",
     "text": [
      "Hello Capstone Project Course!\n"
     ]
    }
   ],
   "source": [
    "print(\"Hello Capstone Project Course!\")"
   ]
  },
  {
   "cell_type": "markdown",
   "metadata": {},
   "source": [
    "# Week 4 - The Battle of Neighborhoods"
   ]
  },
  {
   "cell_type": "markdown",
   "metadata": {},
   "source": [
    "## 1. Problem Statement"
   ]
  },
  {
   "cell_type": "markdown",
   "metadata": {},
   "source": [
    "### 1.1 Introduction"
   ]
  },
  {
   "cell_type": "markdown",
   "metadata": {},
   "source": [
    "In this project we are going to identify the best suitable location to open an Asian Restaurant in the Toronto Neighbourhood"
   ]
  },
  {
   "cell_type": "markdown",
   "metadata": {},
   "source": [
    "### 1.2 Business Problem:"
   ]
  },
  {
   "cell_type": "markdown",
   "metadata": {},
   "source": [
    "Client seeks to establish a franchised Asian restaurant in a Toronto neighborhood. Which neighborhood would appear to be the optimal and most strategic location for the business.\n",
    "\n",
    "A client seeks to establish a franchised Asian restaurant in a Toronto neighborhood. Which neighbourhood would appear to be the optimal and most strategic location for the business operations? The objective of this capstone project is to locate the optimal neighborhood for operation. Our foundation of reasoning would be based off of spending power, distribution of ethnic group, and competition, across each neighbourhood. We will mainly be utilizing the Foursquare API and the extensive geographical and census data from Toronto's Open Data Portal."
   ]
  },
  {
   "cell_type": "markdown",
   "metadata": {},
   "source": [
    "### 1.3 Data"
   ]
  },
  {
   "cell_type": "markdown",
   "metadata": {},
   "source": [
    "#### We are going to extract Datafrom multiple sources mentioned below along the data fields being extract from each source\n",
    "\n",
    "\n",
    "Neighbourhood names, alongside their corresponding boroughs and postal codes, scraped from Wikipedia: (https://en.wikipedia.org/w/index.php?title=List_of_postal_codes_of_Canada:_M&oldid=945633050)\n",
    "* Neighborhood Name\n",
    "* Postal Code\n",
    "\n",
    "The Toronto's census data for its social demographic characteristics will be distilled from Toronto's Neighborhood Profile (https://bit.ly/2ZivgPg).\n",
    "* Total Population\n",
    "* Southeast Asina Population\n",
    "* Income\n",
    "\n",
    "Geographical coordinates of each neighbourhood: (https://cocl.us/Geospatial_data)\n",
    "* Latitude\n",
    "* Longitude\n",
    "\n",
    "The Foursquare API will be used to explore neighborhoods in Toronto, more specifically, we will be using the explore function to get the most common venue categories in each neighborhood.\n",
    "* Venue\n",
    "* Venue Category\n",
    "* Venue Latitude\n",
    "* Venue Longitude"
   ]
  },
  {
   "cell_type": "markdown",
   "metadata": {},
   "source": [
    "# Week 5 - The Battle of Neighborhoods"
   ]
  },
  {
   "cell_type": "markdown",
   "metadata": {},
   "source": [
    "## 2. Exploratory Data Analysis"
   ]
  },
  {
   "cell_type": "markdown",
   "metadata": {},
   "source": [
    "### 2.1 Import Data"
   ]
  },
  {
   "cell_type": "code",
   "execution_count": 3,
   "metadata": {},
   "outputs": [
    {
     "data": {
      "text/html": [
       "<div>\n",
       "<style scoped>\n",
       "    .dataframe tbody tr th:only-of-type {\n",
       "        vertical-align: middle;\n",
       "    }\n",
       "\n",
       "    .dataframe tbody tr th {\n",
       "        vertical-align: top;\n",
       "    }\n",
       "\n",
       "    .dataframe thead th {\n",
       "        text-align: right;\n",
       "    }\n",
       "</style>\n",
       "<table border=\"1\" class=\"dataframe\">\n",
       "  <thead>\n",
       "    <tr style=\"text-align: right;\">\n",
       "      <th></th>\n",
       "      <th>Neighbourhood Id</th>\n",
       "      <th>Neighbourhood</th>\n",
       "      <th>After-Tax Household Income</th>\n",
       "      <th>Total Population</th>\n",
       "      <th>Southeast Asian</th>\n",
       "    </tr>\n",
       "  </thead>\n",
       "  <tbody>\n",
       "    <tr>\n",
       "      <th>0</th>\n",
       "      <td>1</td>\n",
       "      <td>West Humber-Clairville</td>\n",
       "      <td>59703</td>\n",
       "      <td>33312</td>\n",
       "      <td>490</td>\n",
       "    </tr>\n",
       "    <tr>\n",
       "      <th>1</th>\n",
       "      <td>2</td>\n",
       "      <td>Mount Olive-Silverstone-Jamestown</td>\n",
       "      <td>46986</td>\n",
       "      <td>32954</td>\n",
       "      <td>590</td>\n",
       "    </tr>\n",
       "    <tr>\n",
       "      <th>2</th>\n",
       "      <td>3</td>\n",
       "      <td>Thistletown-Beaumond Heights</td>\n",
       "      <td>57522</td>\n",
       "      <td>10360</td>\n",
       "      <td>120</td>\n",
       "    </tr>\n",
       "    <tr>\n",
       "      <th>3</th>\n",
       "      <td>4</td>\n",
       "      <td>Rexdale-Kipling</td>\n",
       "      <td>51194</td>\n",
       "      <td>10529</td>\n",
       "      <td>170</td>\n",
       "    </tr>\n",
       "    <tr>\n",
       "      <th>4</th>\n",
       "      <td>5</td>\n",
       "      <td>Elms-Old Rexdale</td>\n",
       "      <td>49425</td>\n",
       "      <td>9456</td>\n",
       "      <td>370</td>\n",
       "    </tr>\n",
       "  </tbody>\n",
       "</table>\n",
       "</div>"
      ],
      "text/plain": [
       "   Neighbourhood Id                      Neighbourhood  \\\n",
       "0                 1             West Humber-Clairville   \n",
       "1                 2  Mount Olive-Silverstone-Jamestown   \n",
       "2                 3       Thistletown-Beaumond Heights   \n",
       "3                 4                    Rexdale-Kipling   \n",
       "4                 5                   Elms-Old Rexdale   \n",
       "\n",
       "   After-Tax Household Income  Total Population     Southeast Asian  \n",
       "0                       59703             33312                 490  \n",
       "1                       46986             32954                 590  \n",
       "2                       57522             10360                 120  \n",
       "3                       51194             10529                 170  \n",
       "4                       49425              9456                 370  "
      ]
     },
     "execution_count": 3,
     "metadata": {},
     "output_type": "execute_result"
    }
   ],
   "source": [
    "Toronto_Census = pd.read_csv('wellbeing_toronto.csv')\n",
    "Toronto_Census.head()"
   ]
  },
  {
   "cell_type": "code",
   "execution_count": 4,
   "metadata": {},
   "outputs": [
    {
     "data": {
      "text/html": [
       "<div>\n",
       "<style scoped>\n",
       "    .dataframe tbody tr th:only-of-type {\n",
       "        vertical-align: middle;\n",
       "    }\n",
       "\n",
       "    .dataframe tbody tr th {\n",
       "        vertical-align: top;\n",
       "    }\n",
       "\n",
       "    .dataframe thead th {\n",
       "        text-align: right;\n",
       "    }\n",
       "</style>\n",
       "<table border=\"1\" class=\"dataframe\">\n",
       "  <thead>\n",
       "    <tr style=\"text-align: right;\">\n",
       "      <th></th>\n",
       "      <th>Postal Code</th>\n",
       "      <th>Latitude</th>\n",
       "      <th>Longitude</th>\n",
       "    </tr>\n",
       "  </thead>\n",
       "  <tbody>\n",
       "    <tr>\n",
       "      <th>0</th>\n",
       "      <td>M1B</td>\n",
       "      <td>43.806686</td>\n",
       "      <td>-79.194353</td>\n",
       "    </tr>\n",
       "    <tr>\n",
       "      <th>1</th>\n",
       "      <td>M1C</td>\n",
       "      <td>43.784535</td>\n",
       "      <td>-79.160497</td>\n",
       "    </tr>\n",
       "    <tr>\n",
       "      <th>2</th>\n",
       "      <td>M1E</td>\n",
       "      <td>43.763573</td>\n",
       "      <td>-79.188711</td>\n",
       "    </tr>\n",
       "    <tr>\n",
       "      <th>3</th>\n",
       "      <td>M1G</td>\n",
       "      <td>43.770992</td>\n",
       "      <td>-79.216917</td>\n",
       "    </tr>\n",
       "    <tr>\n",
       "      <th>4</th>\n",
       "      <td>M1H</td>\n",
       "      <td>43.773136</td>\n",
       "      <td>-79.239476</td>\n",
       "    </tr>\n",
       "  </tbody>\n",
       "</table>\n",
       "</div>"
      ],
      "text/plain": [
       "  Postal Code   Latitude  Longitude\n",
       "0         M1B  43.806686 -79.194353\n",
       "1         M1C  43.784535 -79.160497\n",
       "2         M1E  43.763573 -79.188711\n",
       "3         M1G  43.770992 -79.216917\n",
       "4         M1H  43.773136 -79.239476"
      ]
     },
     "execution_count": 4,
     "metadata": {},
     "output_type": "execute_result"
    }
   ],
   "source": [
    "df_geo = pd.read_csv(\"https://cocl.us/Geospatial_data\")\n",
    "df_geo.head()"
   ]
  },
  {
   "cell_type": "code",
   "execution_count": 5,
   "metadata": {},
   "outputs": [
    {
     "data": {
      "text/html": [
       "<div>\n",
       "<style scoped>\n",
       "    .dataframe tbody tr th:only-of-type {\n",
       "        vertical-align: middle;\n",
       "    }\n",
       "\n",
       "    .dataframe tbody tr th {\n",
       "        vertical-align: top;\n",
       "    }\n",
       "\n",
       "    .dataframe thead th {\n",
       "        text-align: right;\n",
       "    }\n",
       "</style>\n",
       "<table border=\"1\" class=\"dataframe\">\n",
       "  <thead>\n",
       "    <tr style=\"text-align: right;\">\n",
       "      <th></th>\n",
       "      <th>Postcode</th>\n",
       "      <th>Borough</th>\n",
       "      <th>Neighbourhood</th>\n",
       "    </tr>\n",
       "  </thead>\n",
       "  <tbody>\n",
       "    <tr>\n",
       "      <th>2</th>\n",
       "      <td>M3A</td>\n",
       "      <td>North York</td>\n",
       "      <td>Parkwoods</td>\n",
       "    </tr>\n",
       "    <tr>\n",
       "      <th>3</th>\n",
       "      <td>M4A</td>\n",
       "      <td>North York</td>\n",
       "      <td>Victoria Village</td>\n",
       "    </tr>\n",
       "    <tr>\n",
       "      <th>4</th>\n",
       "      <td>M5A</td>\n",
       "      <td>Downtown Toronto</td>\n",
       "      <td>Harbourfront</td>\n",
       "    </tr>\n",
       "    <tr>\n",
       "      <th>5</th>\n",
       "      <td>M6A</td>\n",
       "      <td>North York</td>\n",
       "      <td>Lawrence Heights</td>\n",
       "    </tr>\n",
       "    <tr>\n",
       "      <th>6</th>\n",
       "      <td>M6A</td>\n",
       "      <td>North York</td>\n",
       "      <td>Lawrence Manor</td>\n",
       "    </tr>\n",
       "  </tbody>\n",
       "</table>\n",
       "</div>"
      ],
      "text/plain": [
       "  Postcode           Borough     Neighbourhood\n",
       "2      M3A        North York         Parkwoods\n",
       "3      M4A        North York  Victoria Village\n",
       "4      M5A  Downtown Toronto      Harbourfront\n",
       "5      M6A        North York  Lawrence Heights\n",
       "6      M6A        North York    Lawrence Manor"
      ]
     },
     "execution_count": 5,
     "metadata": {},
     "output_type": "execute_result"
    }
   ],
   "source": [
    "df = pd.read_html('https://en.wikipedia.org/w/index.php?title=List_of_postal_codes_of_Canada:_M&oldid=945633050')[0]\n",
    "df = df[df.Borough!='Not assigned']\n",
    "df.head()"
   ]
  },
  {
   "cell_type": "markdown",
   "metadata": {},
   "source": [
    "### 2.2 Merge all dataframes"
   ]
  },
  {
   "cell_type": "code",
   "execution_count": 6,
   "metadata": {},
   "outputs": [
    {
     "data": {
      "text/html": [
       "<div>\n",
       "<style scoped>\n",
       "    .dataframe tbody tr th:only-of-type {\n",
       "        vertical-align: middle;\n",
       "    }\n",
       "\n",
       "    .dataframe tbody tr th {\n",
       "        vertical-align: top;\n",
       "    }\n",
       "\n",
       "    .dataframe thead th {\n",
       "        text-align: right;\n",
       "    }\n",
       "</style>\n",
       "<table border=\"1\" class=\"dataframe\">\n",
       "  <thead>\n",
       "    <tr style=\"text-align: right;\">\n",
       "      <th></th>\n",
       "      <th>Neighbourhood</th>\n",
       "      <th>Latitude</th>\n",
       "      <th>Longitude</th>\n",
       "      <th>Neighbourhood Id</th>\n",
       "      <th>After-Tax Household Income</th>\n",
       "      <th>Total Population</th>\n",
       "      <th>Southeast Asian</th>\n",
       "    </tr>\n",
       "  </thead>\n",
       "  <tbody>\n",
       "    <tr>\n",
       "      <th>0</th>\n",
       "      <td>Victoria Village</td>\n",
       "      <td>43.725882</td>\n",
       "      <td>-79.315572</td>\n",
       "      <td>43.0</td>\n",
       "      <td>43743.0</td>\n",
       "      <td>17510.0</td>\n",
       "      <td>95.0</td>\n",
       "    </tr>\n",
       "    <tr>\n",
       "      <th>1</th>\n",
       "      <td>Rouge</td>\n",
       "      <td>43.806686</td>\n",
       "      <td>-79.194353</td>\n",
       "      <td>131.0</td>\n",
       "      <td>72784.0</td>\n",
       "      <td>46496.0</td>\n",
       "      <td>295.0</td>\n",
       "    </tr>\n",
       "    <tr>\n",
       "      <th>2</th>\n",
       "      <td>Malvern</td>\n",
       "      <td>43.806686</td>\n",
       "      <td>-79.194353</td>\n",
       "      <td>132.0</td>\n",
       "      <td>53425.0</td>\n",
       "      <td>43794.0</td>\n",
       "      <td>200.0</td>\n",
       "    </tr>\n",
       "    <tr>\n",
       "      <th>3</th>\n",
       "      <td>Highland Creek</td>\n",
       "      <td>43.784535</td>\n",
       "      <td>-79.160497</td>\n",
       "      <td>134.0</td>\n",
       "      <td>87321.0</td>\n",
       "      <td>12494.0</td>\n",
       "      <td>85.0</td>\n",
       "    </tr>\n",
       "    <tr>\n",
       "      <th>4</th>\n",
       "      <td>Flemingdon Park</td>\n",
       "      <td>43.725900</td>\n",
       "      <td>-79.340923</td>\n",
       "      <td>44.0</td>\n",
       "      <td>43511.0</td>\n",
       "      <td>21933.0</td>\n",
       "      <td>230.0</td>\n",
       "    </tr>\n",
       "  </tbody>\n",
       "</table>\n",
       "</div>"
      ],
      "text/plain": [
       "      Neighbourhood   Latitude  Longitude  Neighbourhood Id  \\\n",
       "0  Victoria Village  43.725882 -79.315572              43.0   \n",
       "1             Rouge  43.806686 -79.194353             131.0   \n",
       "2           Malvern  43.806686 -79.194353             132.0   \n",
       "3    Highland Creek  43.784535 -79.160497             134.0   \n",
       "4   Flemingdon Park  43.725900 -79.340923              44.0   \n",
       "\n",
       "   After-Tax Household Income  Total Population     Southeast Asian  \n",
       "0                     43743.0           17510.0                95.0  \n",
       "1                     72784.0           46496.0               295.0  \n",
       "2                     53425.0           43794.0               200.0  \n",
       "3                     87321.0           12494.0                85.0  \n",
       "4                     43511.0           21933.0               230.0  "
      ]
     },
     "execution_count": 6,
     "metadata": {},
     "output_type": "execute_result"
    }
   ],
   "source": [
    "df = pd.merge(df, df_geo, left_on='Postcode', right_on='Postal Code').drop(['Postal Code', 'Postcode', 'Borough'], axis=1)\n",
    "df = pd.merge(df, Toronto_Census, on='Neighbourhood', how='left').dropna(how='any', axis=0).reset_index(drop=True)\n",
    "df.head()"
   ]
  },
  {
   "cell_type": "code",
   "execution_count": 7,
   "metadata": {},
   "outputs": [
    {
     "data": {
      "text/plain": [
       "Index(['Neighbourhood', 'Latitude', 'Longitude', 'Neighbourhood Id',\n",
       "       'After-Tax Household Income', 'Total Population', 'Southeast Asian'],\n",
       "      dtype='object')"
      ]
     },
     "execution_count": 7,
     "metadata": {},
     "output_type": "execute_result"
    }
   ],
   "source": [
    "df.rename(columns={'   Southeast Asian': 'Southeast Asian'}, inplace=True)\n",
    "df.columns"
   ]
  },
  {
   "cell_type": "markdown",
   "metadata": {},
   "source": [
    "### 2.3 Get Population percentage of Southeast Asians"
   ]
  },
  {
   "cell_type": "code",
   "execution_count": 8,
   "metadata": {},
   "outputs": [
    {
     "data": {
      "text/html": [
       "<div>\n",
       "<style scoped>\n",
       "    .dataframe tbody tr th:only-of-type {\n",
       "        vertical-align: middle;\n",
       "    }\n",
       "\n",
       "    .dataframe tbody tr th {\n",
       "        vertical-align: top;\n",
       "    }\n",
       "\n",
       "    .dataframe thead th {\n",
       "        text-align: right;\n",
       "    }\n",
       "</style>\n",
       "<table border=\"1\" class=\"dataframe\">\n",
       "  <thead>\n",
       "    <tr style=\"text-align: right;\">\n",
       "      <th></th>\n",
       "      <th>Neighbourhood</th>\n",
       "      <th>Latitude</th>\n",
       "      <th>Longitude</th>\n",
       "      <th>Neighbourhood Id</th>\n",
       "      <th>After-Tax Household Income</th>\n",
       "      <th>Percentage of Southeast Asian</th>\n",
       "    </tr>\n",
       "  </thead>\n",
       "  <tbody>\n",
       "    <tr>\n",
       "      <th>0</th>\n",
       "      <td>Victoria Village</td>\n",
       "      <td>43.725882</td>\n",
       "      <td>-79.315572</td>\n",
       "      <td>43.0</td>\n",
       "      <td>43743.0</td>\n",
       "      <td>0.542547</td>\n",
       "    </tr>\n",
       "    <tr>\n",
       "      <th>1</th>\n",
       "      <td>Rouge</td>\n",
       "      <td>43.806686</td>\n",
       "      <td>-79.194353</td>\n",
       "      <td>131.0</td>\n",
       "      <td>72784.0</td>\n",
       "      <td>0.634463</td>\n",
       "    </tr>\n",
       "    <tr>\n",
       "      <th>2</th>\n",
       "      <td>Malvern</td>\n",
       "      <td>43.806686</td>\n",
       "      <td>-79.194353</td>\n",
       "      <td>132.0</td>\n",
       "      <td>53425.0</td>\n",
       "      <td>0.456684</td>\n",
       "    </tr>\n",
       "    <tr>\n",
       "      <th>3</th>\n",
       "      <td>Highland Creek</td>\n",
       "      <td>43.784535</td>\n",
       "      <td>-79.160497</td>\n",
       "      <td>134.0</td>\n",
       "      <td>87321.0</td>\n",
       "      <td>0.680327</td>\n",
       "    </tr>\n",
       "    <tr>\n",
       "      <th>4</th>\n",
       "      <td>Flemingdon Park</td>\n",
       "      <td>43.725900</td>\n",
       "      <td>-79.340923</td>\n",
       "      <td>44.0</td>\n",
       "      <td>43511.0</td>\n",
       "      <td>1.048648</td>\n",
       "    </tr>\n",
       "  </tbody>\n",
       "</table>\n",
       "</div>"
      ],
      "text/plain": [
       "      Neighbourhood   Latitude  Longitude  Neighbourhood Id  \\\n",
       "0  Victoria Village  43.725882 -79.315572              43.0   \n",
       "1             Rouge  43.806686 -79.194353             131.0   \n",
       "2           Malvern  43.806686 -79.194353             132.0   \n",
       "3    Highland Creek  43.784535 -79.160497             134.0   \n",
       "4   Flemingdon Park  43.725900 -79.340923              44.0   \n",
       "\n",
       "   After-Tax Household Income  Percentage of Southeast Asian  \n",
       "0                     43743.0                       0.542547  \n",
       "1                     72784.0                       0.634463  \n",
       "2                     53425.0                       0.456684  \n",
       "3                     87321.0                       0.680327  \n",
       "4                     43511.0                       1.048648  "
      ]
     },
     "execution_count": 8,
     "metadata": {},
     "output_type": "execute_result"
    }
   ],
   "source": [
    "df['Percentage of Southeast Asian'] = df['Southeast Asian'] / df['Total Population'] * 100\n",
    "df.drop(['Total Population', 'Southeast Asian'], axis=1, inplace=True)\n",
    "df.head()"
   ]
  },
  {
   "cell_type": "markdown",
   "metadata": {},
   "source": [
    "### 2.4 Create Folium Map"
   ]
  },
  {
   "cell_type": "code",
   "execution_count": 9,
   "metadata": {},
   "outputs": [
    {
     "name": "stdout",
     "output_type": "stream",
     "text": [
      "Requirement already satisfied: geopy in c:\\programdata\\anaconda3\\lib\\site-packages (1.22.0)\n",
      "Requirement already satisfied: geographiclib<2,>=1.49 in c:\\programdata\\anaconda3\\lib\\site-packages (from geopy) (1.50)\n",
      "Note: you may need to restart the kernel to use updated packages.\n"
     ]
    }
   ],
   "source": [
    "pip install geopy"
   ]
  },
  {
   "cell_type": "code",
   "execution_count": 10,
   "metadata": {},
   "outputs": [
    {
     "name": "stdout",
     "output_type": "stream",
     "text": [
      "The geographical coordinates of Toronto are 43.6534817, -79.3839347\n"
     ]
    }
   ],
   "source": [
    "# get location of Toronto using geopy\n",
    "from geopy.geocoders import Nominatim\n",
    "address = 'Toronto'\n",
    "geolocator = Nominatim(user_agent='to_explorer')\n",
    "location = geolocator.geocode(address)\n",
    "latitude = location.latitude\n",
    "longitude = location.longitude\n",
    "\n",
    "print(\"The geographical coordinates of Toronto are {}, {}\".format(latitude, longitude))"
   ]
  },
  {
   "cell_type": "code",
   "execution_count": 11,
   "metadata": {},
   "outputs": [
    {
     "name": "stdout",
     "output_type": "stream",
     "text": [
      "Requirement already satisfied: folium in c:\\programdata\\anaconda3\\lib\\site-packages (0.11.0)\n",
      "Requirement already satisfied: branca>=0.3.0 in c:\\programdata\\anaconda3\\lib\\site-packages (from folium) (0.4.1)\n",
      "Requirement already satisfied: jinja2>=2.9 in c:\\programdata\\anaconda3\\lib\\site-packages (from folium) (2.10)\n",
      "Requirement already satisfied: numpy in c:\\programdata\\anaconda3\\lib\\site-packages (from folium) (1.16.2)\n",
      "Requirement already satisfied: requests in c:\\programdata\\anaconda3\\lib\\site-packages (from folium) (2.21.0)\n",
      "Requirement already satisfied: MarkupSafe>=0.23 in c:\\programdata\\anaconda3\\lib\\site-packages (from jinja2>=2.9->folium) (1.1.1)\n",
      "Requirement already satisfied: chardet<3.1.0,>=3.0.2 in c:\\programdata\\anaconda3\\lib\\site-packages (from requests->folium) (3.0.4)\n",
      "Requirement already satisfied: idna<2.9,>=2.5 in c:\\programdata\\anaconda3\\lib\\site-packages (from requests->folium) (2.8)\n",
      "Requirement already satisfied: urllib3<1.25,>=1.21.1 in c:\\programdata\\anaconda3\\lib\\site-packages (from requests->folium) (1.24.1)\n",
      "Requirement already satisfied: certifi>=2017.4.17 in c:\\programdata\\anaconda3\\lib\\site-packages (from requests->folium) (2019.3.9)\n",
      "Note: you may need to restart the kernel to use updated packages.\n"
     ]
    }
   ],
   "source": [
    "pip install folium"
   ]
  },
  {
   "cell_type": "code",
   "execution_count": 12,
   "metadata": {},
   "outputs": [
    {
     "data": {
      "text/html": [
       "<div style=\"width:100%;\"><div style=\"position:relative;width:100%;height:0;padding-bottom:60%;\"><span style=\"color:#565656\">Make this Notebook Trusted to load map: File -> Trust Notebook</span><iframe src=\"about:blank\" style=\"position:absolute;width:100%;height:100%;left:0;top:0;border:none !important;\" data-html=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 onload=\"this.contentDocument.open();this.contentDocument.write(atob(this.getAttribute('data-html')));this.contentDocument.close();\" allowfullscreen webkitallowfullscreen mozallowfullscreen></iframe></div></div>"
      ],
      "text/plain": [
       "<folium.folium.Map at 0x21a5f3814a8>"
      ]
     },
     "execution_count": 12,
     "metadata": {},
     "output_type": "execute_result"
    }
   ],
   "source": [
    "# Folium mapping\n",
    "import folium\n",
    "map_Toronto = folium.Map(location=[latitude, longitude], zoom_start=11)\n",
    "\n",
    "# add markers to map\n",
    "for lat, lng, neighbourhood in zip(df['Latitude'], df['Longitude'], df['Neighbourhood']):\n",
    "  label = '{}'.format(neighbourhood)\n",
    "  label = folium.Popup(label)\n",
    "  folium.CircleMarker(\n",
    "      [lat,lng],\n",
    "      radius=8,\n",
    "      color='blue',\n",
    "      popup=label,\n",
    "      fill_color='#3186cc',\n",
    "      fill_opacity=0.7,\n",
    "      fill=True\n",
    "\n",
    "  ).add_to(map_Toronto)\n",
    "\n",
    "map_Toronto"
   ]
  },
  {
   "cell_type": "markdown",
   "metadata": {},
   "source": [
    "### 2.5 Save Froursquare API Credentials"
   ]
  },
  {
   "cell_type": "code",
   "execution_count": 15,
   "metadata": {},
   "outputs": [
    {
     "name": "stdout",
     "output_type": "stream",
     "text": [
      "Your credentails:\n",
      "CLIENT_ID: F53QVGYFG0FL4ZHQSR5JVYQKTOUSTXPRSU0GEZUF5W5RL5QF\n",
      "CLIENT_SECRET:QLCVJODUQ3AZVZ2CC3YGROFIM1UJ2MU23MYH1055DBCJGAZZ\n"
     ]
    }
   ],
   "source": [
    "# @hidden_cell\n",
    "CLIENT_ID = 'F53QVGYFG0FL4ZHQSR5JVYQKTOUSTXPRSU0GEZUF5W5RL5QF' # your Foursquare ID\n",
    "CLIENT_SECRET = 'QLCVJODUQ3AZVZ2CC3YGROFIM1UJ2MU23MYH1055DBCJGAZZ' # your Foursquare Secret\n",
    "VERSION = '20180604'\n",
    "print('Your credentails:')\n",
    "print('CLIENT_ID: ' + CLIENT_ID)\n",
    "print('CLIENT_SECRET:' + CLIENT_SECRET)"
   ]
  },
  {
   "cell_type": "markdown",
   "metadata": {},
   "source": [
    "### 2.6 Define function to explore top nearby venues"
   ]
  },
  {
   "cell_type": "code",
   "execution_count": 19,
   "metadata": {},
   "outputs": [],
   "source": [
    "import requests\n",
    "LIMIT = 100\n",
    "url = 'https://api.foursquare.com/v2/venues/explore?&client_id={}&client_secret={}&v={}&ll={},{}&radius={}&limit={}'.format(\n",
    "        CLIENT_ID,\n",
    "        CLIENT_SECRET,\n",
    "        VERSION,\n",
    "        lat,\n",
    "        lng,\n",
    "        radius,\n",
    "        LIMIT\n",
    "    )\n",
    "\n",
    "def getNearbyVenues(names, latitudes, longitudes, radius=1500):\n",
    "  venues_list = []\n",
    "  for name, lat, lng in zip(names, latitudes, longitudes):\n",
    "    print(name)\n",
    "\n",
    "    #create the API request url\n",
    "    url = 'https://api.foursquare.com/v2/venues/explore?&client_id={}&client_secret={}&v={}&ll={},{}&radius={}&limit={}'.format(\n",
    "        CLIENT_ID,\n",
    "        CLIENT_SECRET,\n",
    "        VERSION,\n",
    "        lat,\n",
    "        lng,\n",
    "        radius,\n",
    "        LIMIT\n",
    "    )\n",
    "\n",
    "    # make the GET request\n",
    "    results = requests.get(url).json()['response']['groups'][0]['items']\n",
    "\n",
    "    # return only relevant information for each nearby venue\n",
    "    venues_list.append([(\n",
    "        name,\n",
    "        lat,\n",
    "        lng,\n",
    "        v['venue']['name'],\n",
    "        v['venue']['location']['lat'],\n",
    "        v['venue']['location']['lng'],\n",
    "        v['venue']['categories'][0]['name']) for v in results\n",
    "        ])\n",
    "  \n",
    "  nearby_venues = pd.DataFrame([item for venue_list in venues_list for item in venue_list])\n",
    "  nearby_venues.columns = ['Neighbourhood',\n",
    "                           'Neighbourhood Latitude',\n",
    "                           'Neighbourhood Longitude',\n",
    "                           'Venue',\n",
    "                           'Venue Latitude',\n",
    "                           'Venue Longitude',\n",
    "                           'Venue Category']\n",
    "\n",
    "  return(nearby_venues)"
   ]
  },
  {
   "cell_type": "code",
   "execution_count": 28,
   "metadata": {},
   "outputs": [
    {
     "name": "stdout",
     "output_type": "stream",
     "text": [
      "Victoria Village\n",
      "Rouge\n",
      "Malvern\n",
      "Highland Creek\n",
      "Flemingdon Park\n",
      "Humewood-Cedarvale\n",
      "Markland Wood\n",
      "Guildwood\n",
      "Morningside\n",
      "West Hill\n",
      "The Beaches\n",
      "Woburn\n",
      "Hillcrest Village\n",
      "Bathurst Manor\n",
      "Thorncliffe Park\n",
      "Scarborough Village\n",
      "Henry Farm\n",
      "Little Portugal\n",
      "Ionview\n",
      "Kennedy Park\n",
      "Bayview Village\n",
      "Oakridge\n",
      "Humber Summit\n",
      "Cliffcrest\n",
      "Mount Dennis\n",
      "Weston\n",
      "Dorset Park\n",
      "Forest Hill North\n",
      "Willowdale West\n",
      "Roncesvalles\n",
      "Agincourt North\n",
      "Milliken\n",
      "New Toronto\n",
      "Alderwood\n",
      "Long Branch\n"
     ]
    }
   ],
   "source": [
    "# run the function above to each neighborhood and create a new dataframe called manhattan_venues\n",
    "Toronto_venues = getNearbyVenues(names=df['Neighbourhood'],\n",
    "                                 latitudes=df['Latitude'],\n",
    "                                 longitudes=df['Longitude'])"
   ]
  },
  {
   "cell_type": "code",
   "execution_count": 29,
   "metadata": {},
   "outputs": [
    {
     "data": {
      "text/html": [
       "<div>\n",
       "<style scoped>\n",
       "    .dataframe tbody tr th:only-of-type {\n",
       "        vertical-align: middle;\n",
       "    }\n",
       "\n",
       "    .dataframe tbody tr th {\n",
       "        vertical-align: top;\n",
       "    }\n",
       "\n",
       "    .dataframe thead th {\n",
       "        text-align: right;\n",
       "    }\n",
       "</style>\n",
       "<table border=\"1\" class=\"dataframe\">\n",
       "  <thead>\n",
       "    <tr style=\"text-align: right;\">\n",
       "      <th></th>\n",
       "      <th>Neighbourhood</th>\n",
       "      <th>Neighbourhood Latitude</th>\n",
       "      <th>Neighbourhood Longitude</th>\n",
       "      <th>Venue</th>\n",
       "      <th>Venue Latitude</th>\n",
       "      <th>Venue Longitude</th>\n",
       "      <th>Venue Category</th>\n",
       "    </tr>\n",
       "  </thead>\n",
       "  <tbody>\n",
       "    <tr>\n",
       "      <th>0</th>\n",
       "      <td>Victoria Village</td>\n",
       "      <td>43.725882</td>\n",
       "      <td>-79.315572</td>\n",
       "      <td>Victoria Village Arena</td>\n",
       "      <td>43.723481</td>\n",
       "      <td>-79.315635</td>\n",
       "      <td>Hockey Arena</td>\n",
       "    </tr>\n",
       "    <tr>\n",
       "      <th>1</th>\n",
       "      <td>Victoria Village</td>\n",
       "      <td>43.725882</td>\n",
       "      <td>-79.315572</td>\n",
       "      <td>Sultan Of Samosas</td>\n",
       "      <td>43.718823</td>\n",
       "      <td>-79.304350</td>\n",
       "      <td>Indian Restaurant</td>\n",
       "    </tr>\n",
       "    <tr>\n",
       "      <th>2</th>\n",
       "      <td>Victoria Village</td>\n",
       "      <td>43.725882</td>\n",
       "      <td>-79.315572</td>\n",
       "      <td>Aga Khan Museum</td>\n",
       "      <td>43.725105</td>\n",
       "      <td>-79.332076</td>\n",
       "      <td>History Museum</td>\n",
       "    </tr>\n",
       "    <tr>\n",
       "      <th>3</th>\n",
       "      <td>Victoria Village</td>\n",
       "      <td>43.725882</td>\n",
       "      <td>-79.315572</td>\n",
       "      <td>Jatujak</td>\n",
       "      <td>43.736208</td>\n",
       "      <td>-79.307668</td>\n",
       "      <td>Thai Restaurant</td>\n",
       "    </tr>\n",
       "    <tr>\n",
       "      <th>4</th>\n",
       "      <td>Victoria Village</td>\n",
       "      <td>43.725882</td>\n",
       "      <td>-79.315572</td>\n",
       "      <td>Armenian Kitchen</td>\n",
       "      <td>43.731071</td>\n",
       "      <td>-79.305390</td>\n",
       "      <td>Middle Eastern Restaurant</td>\n",
       "    </tr>\n",
       "  </tbody>\n",
       "</table>\n",
       "</div>"
      ],
      "text/plain": [
       "      Neighbourhood  Neighbourhood Latitude  Neighbourhood Longitude  \\\n",
       "0  Victoria Village               43.725882               -79.315572   \n",
       "1  Victoria Village               43.725882               -79.315572   \n",
       "2  Victoria Village               43.725882               -79.315572   \n",
       "3  Victoria Village               43.725882               -79.315572   \n",
       "4  Victoria Village               43.725882               -79.315572   \n",
       "\n",
       "                    Venue  Venue Latitude  Venue Longitude  \\\n",
       "0  Victoria Village Arena       43.723481       -79.315635   \n",
       "1       Sultan Of Samosas       43.718823       -79.304350   \n",
       "2         Aga Khan Museum       43.725105       -79.332076   \n",
       "3                 Jatujak       43.736208       -79.307668   \n",
       "4        Armenian Kitchen       43.731071       -79.305390   \n",
       "\n",
       "              Venue Category  \n",
       "0               Hockey Arena  \n",
       "1          Indian Restaurant  \n",
       "2             History Museum  \n",
       "3            Thai Restaurant  \n",
       "4  Middle Eastern Restaurant  "
      ]
     },
     "execution_count": 29,
     "metadata": {},
     "output_type": "execute_result"
    }
   ],
   "source": [
    "Toronto_venues.head()"
   ]
  },
  {
   "cell_type": "markdown",
   "metadata": {},
   "source": [
    "### 2.7 One-Hot Encoding"
   ]
  },
  {
   "cell_type": "code",
   "execution_count": 31,
   "metadata": {},
   "outputs": [
    {
     "data": {
      "text/html": [
       "<div>\n",
       "<style scoped>\n",
       "    .dataframe tbody tr th:only-of-type {\n",
       "        vertical-align: middle;\n",
       "    }\n",
       "\n",
       "    .dataframe tbody tr th {\n",
       "        vertical-align: top;\n",
       "    }\n",
       "\n",
       "    .dataframe thead th {\n",
       "        text-align: right;\n",
       "    }\n",
       "</style>\n",
       "<table border=\"1\" class=\"dataframe\">\n",
       "  <thead>\n",
       "    <tr style=\"text-align: right;\">\n",
       "      <th></th>\n",
       "      <th>Neighbourhood</th>\n",
       "      <th>Afghan Restaurant</th>\n",
       "      <th>American Restaurant</th>\n",
       "      <th>Amphitheater</th>\n",
       "      <th>Antique Shop</th>\n",
       "      <th>Art Gallery</th>\n",
       "      <th>Art Museum</th>\n",
       "      <th>Arts &amp; Crafts Store</th>\n",
       "      <th>Asian Restaurant</th>\n",
       "      <th>Athletics &amp; Sports</th>\n",
       "      <th>...</th>\n",
       "      <th>Volleyball Court</th>\n",
       "      <th>Warehouse Store</th>\n",
       "      <th>Whisky Bar</th>\n",
       "      <th>Wine Bar</th>\n",
       "      <th>Wings Joint</th>\n",
       "      <th>Women's Store</th>\n",
       "      <th>Xinjiang Restaurant</th>\n",
       "      <th>Yoga Studio</th>\n",
       "      <th>Zoo</th>\n",
       "      <th>Zoo Exhibit</th>\n",
       "    </tr>\n",
       "  </thead>\n",
       "  <tbody>\n",
       "    <tr>\n",
       "      <th>0</th>\n",
       "      <td>Victoria Village</td>\n",
       "      <td>0</td>\n",
       "      <td>0</td>\n",
       "      <td>0</td>\n",
       "      <td>0</td>\n",
       "      <td>0</td>\n",
       "      <td>0</td>\n",
       "      <td>0</td>\n",
       "      <td>0</td>\n",
       "      <td>0</td>\n",
       "      <td>...</td>\n",
       "      <td>0</td>\n",
       "      <td>0</td>\n",
       "      <td>0</td>\n",
       "      <td>0</td>\n",
       "      <td>0</td>\n",
       "      <td>0</td>\n",
       "      <td>0</td>\n",
       "      <td>0</td>\n",
       "      <td>0</td>\n",
       "      <td>0</td>\n",
       "    </tr>\n",
       "    <tr>\n",
       "      <th>1</th>\n",
       "      <td>Victoria Village</td>\n",
       "      <td>0</td>\n",
       "      <td>0</td>\n",
       "      <td>0</td>\n",
       "      <td>0</td>\n",
       "      <td>0</td>\n",
       "      <td>0</td>\n",
       "      <td>0</td>\n",
       "      <td>0</td>\n",
       "      <td>0</td>\n",
       "      <td>...</td>\n",
       "      <td>0</td>\n",
       "      <td>0</td>\n",
       "      <td>0</td>\n",
       "      <td>0</td>\n",
       "      <td>0</td>\n",
       "      <td>0</td>\n",
       "      <td>0</td>\n",
       "      <td>0</td>\n",
       "      <td>0</td>\n",
       "      <td>0</td>\n",
       "    </tr>\n",
       "    <tr>\n",
       "      <th>2</th>\n",
       "      <td>Victoria Village</td>\n",
       "      <td>0</td>\n",
       "      <td>0</td>\n",
       "      <td>0</td>\n",
       "      <td>0</td>\n",
       "      <td>0</td>\n",
       "      <td>0</td>\n",
       "      <td>0</td>\n",
       "      <td>0</td>\n",
       "      <td>0</td>\n",
       "      <td>...</td>\n",
       "      <td>0</td>\n",
       "      <td>0</td>\n",
       "      <td>0</td>\n",
       "      <td>0</td>\n",
       "      <td>0</td>\n",
       "      <td>0</td>\n",
       "      <td>0</td>\n",
       "      <td>0</td>\n",
       "      <td>0</td>\n",
       "      <td>0</td>\n",
       "    </tr>\n",
       "    <tr>\n",
       "      <th>3</th>\n",
       "      <td>Victoria Village</td>\n",
       "      <td>0</td>\n",
       "      <td>0</td>\n",
       "      <td>0</td>\n",
       "      <td>0</td>\n",
       "      <td>0</td>\n",
       "      <td>0</td>\n",
       "      <td>0</td>\n",
       "      <td>0</td>\n",
       "      <td>0</td>\n",
       "      <td>...</td>\n",
       "      <td>0</td>\n",
       "      <td>0</td>\n",
       "      <td>0</td>\n",
       "      <td>0</td>\n",
       "      <td>0</td>\n",
       "      <td>0</td>\n",
       "      <td>0</td>\n",
       "      <td>0</td>\n",
       "      <td>0</td>\n",
       "      <td>0</td>\n",
       "    </tr>\n",
       "    <tr>\n",
       "      <th>4</th>\n",
       "      <td>Victoria Village</td>\n",
       "      <td>0</td>\n",
       "      <td>0</td>\n",
       "      <td>0</td>\n",
       "      <td>0</td>\n",
       "      <td>0</td>\n",
       "      <td>0</td>\n",
       "      <td>0</td>\n",
       "      <td>0</td>\n",
       "      <td>0</td>\n",
       "      <td>...</td>\n",
       "      <td>0</td>\n",
       "      <td>0</td>\n",
       "      <td>0</td>\n",
       "      <td>0</td>\n",
       "      <td>0</td>\n",
       "      <td>0</td>\n",
       "      <td>0</td>\n",
       "      <td>0</td>\n",
       "      <td>0</td>\n",
       "      <td>0</td>\n",
       "    </tr>\n",
       "  </tbody>\n",
       "</table>\n",
       "<p>5 rows × 222 columns</p>\n",
       "</div>"
      ],
      "text/plain": [
       "      Neighbourhood  Afghan Restaurant  American Restaurant  Amphitheater  \\\n",
       "0  Victoria Village                  0                    0             0   \n",
       "1  Victoria Village                  0                    0             0   \n",
       "2  Victoria Village                  0                    0             0   \n",
       "3  Victoria Village                  0                    0             0   \n",
       "4  Victoria Village                  0                    0             0   \n",
       "\n",
       "   Antique Shop  Art Gallery  Art Museum  Arts & Crafts Store  \\\n",
       "0             0            0           0                    0   \n",
       "1             0            0           0                    0   \n",
       "2             0            0           0                    0   \n",
       "3             0            0           0                    0   \n",
       "4             0            0           0                    0   \n",
       "\n",
       "   Asian Restaurant  Athletics & Sports  ...  Volleyball Court  \\\n",
       "0                 0                   0  ...                 0   \n",
       "1                 0                   0  ...                 0   \n",
       "2                 0                   0  ...                 0   \n",
       "3                 0                   0  ...                 0   \n",
       "4                 0                   0  ...                 0   \n",
       "\n",
       "   Warehouse Store  Whisky Bar  Wine Bar  Wings Joint  Women's Store  \\\n",
       "0                0           0         0            0              0   \n",
       "1                0           0         0            0              0   \n",
       "2                0           0         0            0              0   \n",
       "3                0           0         0            0              0   \n",
       "4                0           0         0            0              0   \n",
       "\n",
       "   Xinjiang Restaurant  Yoga Studio  Zoo  Zoo Exhibit  \n",
       "0                    0            0    0            0  \n",
       "1                    0            0    0            0  \n",
       "2                    0            0    0            0  \n",
       "3                    0            0    0            0  \n",
       "4                    0            0    0            0  \n",
       "\n",
       "[5 rows x 222 columns]"
      ]
     },
     "execution_count": 31,
     "metadata": {},
     "output_type": "execute_result"
    }
   ],
   "source": [
    "# one hot encoding\n",
    "Toronto_onehot = pd.get_dummies(Toronto_venues[['Venue Category']], prefix=\"\", prefix_sep=\"\")\n",
    "\n",
    "# add neighborhood column back to dataframe\n",
    "Toronto_onehot['Neighbourhood'] = Toronto_venues['Neighbourhood'] \n",
    "\n",
    "# move neighborhood column to the first column\n",
    "fixed_columns = [Toronto_onehot.columns[-1]] + list(Toronto_onehot.columns[:-1])\n",
    "Toronto_onehot = Toronto_onehot[fixed_columns]\n",
    "\n",
    "Toronto_onehot.head()"
   ]
  },
  {
   "cell_type": "code",
   "execution_count": 32,
   "metadata": {},
   "outputs": [],
   "source": [
    "Toronto_grouped = Toronto_onehot.groupby('Neighbourhood').mean().reset_index()\n",
    "Toronto_grouped = Toronto_grouped[['Neighbourhood', 'Asian Restaurant']]\n",
    "Toronto_grouped.set_index('Neighbourhood', inplace=True)"
   ]
  },
  {
   "cell_type": "markdown",
   "metadata": {},
   "source": [
    "#### Analyze Neighbourhoods by Number of restaurants"
   ]
  },
  {
   "cell_type": "code",
   "execution_count": 35,
   "metadata": {},
   "outputs": [
    {
     "data": {
      "image/png": "[encoded data removed]",
      "text/plain": [
       "<Figure size 1080x360 with 1 Axes>"
      ]
     },
     "metadata": {},
     "output_type": "display_data"
    }
   ],
   "source": [
    "Toronto_grouped.sort_values(by='Asian Restaurant', ascending=False, inplace=True)\n",
    "\n",
    "%matplotlib inline\n",
    "import matplotlib as mpl\n",
    "import matplotlib.pyplot as plt\n",
    "\n",
    "mpl.style.use('ggplot')\n",
    "Toronto_grouped.plot(kind='bar', figsize=(15,5))\n",
    "\n",
    "plt.title('Mean Frequency of Asian Restaurants in Each Neighbourhood in Toronto')\n",
    "plt.xlabel('Neighbourhood')\n",
    "plt.ylabel('Mean frequency of Asian Restaurants')\n",
    "\n",
    "plt.show()"
   ]
  },
  {
   "cell_type": "markdown",
   "metadata": {},
   "source": [
    "#### Analyze neighbourhood by population"
   ]
  },
  {
   "cell_type": "code",
   "execution_count": 36,
   "metadata": {},
   "outputs": [
    {
     "data": {
      "image/png": "[encoded data removed]",
      "text/plain": [
       "<Figure size 936x360 with 1 Axes>"
      ]
     },
     "metadata": {},
     "output_type": "display_data"
    }
   ],
   "source": [
    "df_ethnic = df[['Neighbourhood', 'Percentage of Southeast Asian']].set_index('Neighbourhood')\n",
    "\n",
    "# sort by descending order\n",
    "df_ethnic.sort_values(by='Percentage of Southeast Asian', ascending=False, inplace=True)\n",
    "\n",
    "#plot bar graph\n",
    "df_ethnic.plot(kind='bar', figsize=(13,5))\n",
    "plt.title('Distribution of Southeast Asians in Each Neighbourhood')\n",
    "plt.xlabel('Neighbourhood')\n",
    "plt.ylabel('Percentage of Southeast Asian')\n",
    "\n",
    "plt.show()"
   ]
  },
  {
   "cell_type": "markdown",
   "metadata": {},
   "source": [
    "#### Analyze Neighbourhood by income"
   ]
  },
  {
   "cell_type": "code",
   "execution_count": 38,
   "metadata": {},
   "outputs": [
    {
     "data": {
      "image/png": "[encoded data removed]",
      "text/plain": [
       "<Figure size 936x360 with 1 Axes>"
      ]
     },
     "metadata": {},
     "output_type": "display_data"
    }
   ],
   "source": [
    "df_income = df[['Neighbourhood', 'After-Tax Household Income']].set_index('Neighbourhood')\n",
    "\n",
    "# sort by descending order\n",
    "df_income.sort_values(by='After-Tax Household Income', ascending=False, inplace=True)\n",
    "\n",
    "#plot bar graph\n",
    "df_income.plot(kind='bar', figsize=(13,5))\n",
    "plt.title('Distribution of Median Household Income in Each Neighbourhood')\n",
    "plt.xlabel('Neighbourhood')\n",
    "plt.ylabel('Median Household Income')\n",
    "\n",
    "plt.show()"
   ]
  },
  {
   "cell_type": "markdown",
   "metadata": {},
   "source": [
    "### 2.8 Create Final dataframe"
   ]
  },
  {
   "cell_type": "code",
   "execution_count": 40,
   "metadata": {},
   "outputs": [
    {
     "data": {
      "text/html": [
       "<div>\n",
       "<style scoped>\n",
       "    .dataframe tbody tr th:only-of-type {\n",
       "        vertical-align: middle;\n",
       "    }\n",
       "\n",
       "    .dataframe tbody tr th {\n",
       "        vertical-align: top;\n",
       "    }\n",
       "\n",
       "    .dataframe thead th {\n",
       "        text-align: right;\n",
       "    }\n",
       "</style>\n",
       "<table border=\"1\" class=\"dataframe\">\n",
       "  <thead>\n",
       "    <tr style=\"text-align: right;\">\n",
       "      <th></th>\n",
       "      <th>Neighbourhood</th>\n",
       "      <th>Latitude</th>\n",
       "      <th>Longitude</th>\n",
       "      <th>Neighbourhood Id</th>\n",
       "      <th>After-Tax Household Income</th>\n",
       "      <th>Percentage of Southeast Asian</th>\n",
       "      <th>Asian Restaurant</th>\n",
       "    </tr>\n",
       "  </thead>\n",
       "  <tbody>\n",
       "    <tr>\n",
       "      <th>0</th>\n",
       "      <td>Victoria Village</td>\n",
       "      <td>43.725882</td>\n",
       "      <td>-79.315572</td>\n",
       "      <td>43.0</td>\n",
       "      <td>43743.0</td>\n",
       "      <td>0.542547</td>\n",
       "      <td>0.00000</td>\n",
       "    </tr>\n",
       "    <tr>\n",
       "      <th>1</th>\n",
       "      <td>Rouge</td>\n",
       "      <td>43.806686</td>\n",
       "      <td>-79.194353</td>\n",
       "      <td>131.0</td>\n",
       "      <td>72784.0</td>\n",
       "      <td>0.634463</td>\n",
       "      <td>0.00000</td>\n",
       "    </tr>\n",
       "    <tr>\n",
       "      <th>2</th>\n",
       "      <td>Malvern</td>\n",
       "      <td>43.806686</td>\n",
       "      <td>-79.194353</td>\n",
       "      <td>132.0</td>\n",
       "      <td>53425.0</td>\n",
       "      <td>0.456684</td>\n",
       "      <td>0.00000</td>\n",
       "    </tr>\n",
       "    <tr>\n",
       "      <th>3</th>\n",
       "      <td>Highland Creek</td>\n",
       "      <td>43.784535</td>\n",
       "      <td>-79.160497</td>\n",
       "      <td>134.0</td>\n",
       "      <td>87321.0</td>\n",
       "      <td>0.680327</td>\n",
       "      <td>0.00000</td>\n",
       "    </tr>\n",
       "    <tr>\n",
       "      <th>4</th>\n",
       "      <td>Flemingdon Park</td>\n",
       "      <td>43.725900</td>\n",
       "      <td>-79.340923</td>\n",
       "      <td>44.0</td>\n",
       "      <td>43511.0</td>\n",
       "      <td>1.048648</td>\n",
       "      <td>0.02439</td>\n",
       "    </tr>\n",
       "  </tbody>\n",
       "</table>\n",
       "</div>"
      ],
      "text/plain": [
       "      Neighbourhood   Latitude  Longitude  Neighbourhood Id  \\\n",
       "0  Victoria Village  43.725882 -79.315572              43.0   \n",
       "1             Rouge  43.806686 -79.194353             131.0   \n",
       "2           Malvern  43.806686 -79.194353             132.0   \n",
       "3    Highland Creek  43.784535 -79.160497             134.0   \n",
       "4   Flemingdon Park  43.725900 -79.340923              44.0   \n",
       "\n",
       "   After-Tax Household Income  Percentage of Southeast Asian  Asian Restaurant  \n",
       "0                     43743.0                       0.542547           0.00000  \n",
       "1                     72784.0                       0.634463           0.00000  \n",
       "2                     53425.0                       0.456684           0.00000  \n",
       "3                     87321.0                       0.680327           0.00000  \n",
       "4                     43511.0                       1.048648           0.02439  "
      ]
     },
     "execution_count": 40,
     "metadata": {},
     "output_type": "execute_result"
    }
   ],
   "source": [
    "# merge df with toronto_grouped\n",
    "df_final = pd.merge(df, Toronto_grouped, on='Neighbourhood')\n",
    "df_final.head()"
   ]
  },
  {
   "cell_type": "markdown",
   "metadata": {},
   "source": [
    "## 3. Clustering"
   ]
  },
  {
   "cell_type": "markdown",
   "metadata": {},
   "source": [
    "### 3.1 Normalize fields\n",
    "Now let's normalize the dataset. But why do we need normalization in the first place? Normalization is a statistical method that helps mathematical-based algorithms to interpret features with different magnitudes and distributions equally. We use StandardScaler() to normalize our dataset."
   ]
  },
  {
   "cell_type": "code",
   "execution_count": 48,
   "metadata": {},
   "outputs": [
    {
     "name": "stderr",
     "output_type": "stream",
     "text": [
      "C:\\ProgramData\\Anaconda3\\lib\\site-packages\\sklearn\\utils\\validation.py:595: DataConversionWarning: Data with input dtype object was converted to float64 by StandardScaler.\n",
      "  warnings.warn(msg, DataConversionWarning)\n",
      "C:\\ProgramData\\Anaconda3\\lib\\site-packages\\sklearn\\utils\\validation.py:595: DataConversionWarning: Data with input dtype object was converted to float64 by StandardScaler.\n",
      "  warnings.warn(msg, DataConversionWarning)\n"
     ]
    },
    {
     "data": {
      "text/plain": [
       "array([[-0.76318401, -0.58195085, -0.55646168],\n",
       "       [ 1.89181483, -0.48520087, -0.55646168],\n",
       "       [ 0.12196797, -0.67233002, -0.55646168],\n",
       "       [ 3.22082273, -0.43692551, -0.55646168],\n",
       "       [-0.78439402, -0.04923364,  0.7487196 ],\n",
       "       [-0.25953784, -0.56683351, -0.55646168],\n",
       "       [ 1.11591265, -0.65436181, -0.55646168],\n",
       "       [ 1.4250119 , -0.41005069,  1.28879462],\n",
       "       [-0.18484571,  0.11333426,  1.28879462],\n",
       "       [-0.48343137, -0.32685174,  1.28879462],\n",
       "       [ 1.72478605, -0.37214108, -0.02133736],\n",
       "       [-0.38240958, -0.53310743, -0.55646168],\n",
       "       [ 0.51115327, -0.59360511, -0.55646168],\n",
       "       [-0.09278332, -0.15833173, -0.55646168],\n",
       "       [-1.22925557, -0.67929527, -0.55646168],\n",
       "       [-1.08883072, -0.71245837, -0.55646168],\n",
       "       [-0.40517377, -0.38315284,  0.29294201],\n",
       "       [ 0.03913925,  1.04564485,  1.0489113 ],\n",
       "       [-0.83376213, -0.11132032, -0.55646168],\n",
       "       [-0.94301194,  0.32230495, -0.55646168],\n",
       "       [ 0.54278543, -0.1691174 , -0.55646168],\n",
       "       [-1.82953526, -0.20269624, -0.55646168],\n",
       "       [ 0.10798034,  2.57715499,  4.53996047],\n",
       "       [ 0.75817668, -0.75669928,  0.6880135 ],\n",
       "       [-0.75888716,  3.91904197, -0.55646168],\n",
       "       [-0.98140936,  2.06464835,  0.45320686],\n",
       "       [-0.40782502, -0.03741867,  0.36616647],\n",
       "       [ 0.17252458, -0.98864063, -0.55646168],\n",
       "       [ 0.19519734, -0.09646257, -0.55646168],\n",
       "       [-0.47611758,  1.06124754, -0.55646168],\n",
       "       [ 0.34759853, -0.21299183,  0.12959515],\n",
       "       [ 0.30837831, -0.20232429,  0.12959515],\n",
       "       [-1.02684631, -0.18886777, -0.55646168],\n",
       "       [ 0.85124471, -0.67275473, -0.55646168],\n",
       "       [-0.4032539 ,  0.15174728, -0.55646168]])"
      ]
     },
     "execution_count": 48,
     "metadata": {},
     "output_type": "execute_result"
    }
   ],
   "source": [
    "from sklearn.preprocessing import StandardScaler\n",
    "X = df_final.values[:,4:]\n",
    "X = np.nan_to_num(X)\n",
    "Clus_dataSet = StandardScaler().fit_transform(X)\n",
    "Clus_dataSet"
   ]
  },
  {
   "cell_type": "code",
   "execution_count": 49,
   "metadata": {},
   "outputs": [
    {
     "data": {
      "text/html": [
       "<div>\n",
       "<style scoped>\n",
       "    .dataframe tbody tr th:only-of-type {\n",
       "        vertical-align: middle;\n",
       "    }\n",
       "\n",
       "    .dataframe tbody tr th {\n",
       "        vertical-align: top;\n",
       "    }\n",
       "\n",
       "    .dataframe thead th {\n",
       "        text-align: right;\n",
       "    }\n",
       "</style>\n",
       "<table border=\"1\" class=\"dataframe\">\n",
       "  <thead>\n",
       "    <tr style=\"text-align: right;\">\n",
       "      <th></th>\n",
       "      <th>Household Income</th>\n",
       "      <th>% Southeast Asian</th>\n",
       "      <th>No. of Asian Restaurants</th>\n",
       "    </tr>\n",
       "  </thead>\n",
       "  <tbody>\n",
       "    <tr>\n",
       "      <th>0</th>\n",
       "      <td>-0.763184</td>\n",
       "      <td>-0.581951</td>\n",
       "      <td>-0.556462</td>\n",
       "    </tr>\n",
       "    <tr>\n",
       "      <th>1</th>\n",
       "      <td>1.891815</td>\n",
       "      <td>-0.485201</td>\n",
       "      <td>-0.556462</td>\n",
       "    </tr>\n",
       "    <tr>\n",
       "      <th>2</th>\n",
       "      <td>0.121968</td>\n",
       "      <td>-0.672330</td>\n",
       "      <td>-0.556462</td>\n",
       "    </tr>\n",
       "    <tr>\n",
       "      <th>3</th>\n",
       "      <td>3.220823</td>\n",
       "      <td>-0.436926</td>\n",
       "      <td>-0.556462</td>\n",
       "    </tr>\n",
       "    <tr>\n",
       "      <th>4</th>\n",
       "      <td>-0.784394</td>\n",
       "      <td>-0.049234</td>\n",
       "      <td>0.748720</td>\n",
       "    </tr>\n",
       "  </tbody>\n",
       "</table>\n",
       "</div>"
      ],
      "text/plain": [
       "   Household Income  % Southeast Asian  No. of Asian Restaurants\n",
       "0         -0.763184          -0.581951                 -0.556462\n",
       "1          1.891815          -0.485201                 -0.556462\n",
       "2          0.121968          -0.672330                 -0.556462\n",
       "3          3.220823          -0.436926                 -0.556462\n",
       "4         -0.784394          -0.049234                  0.748720"
      ]
     },
     "execution_count": 49,
     "metadata": {},
     "output_type": "execute_result"
    }
   ],
   "source": [
    "df_normalized = pd.DataFrame(Clus_dataSet)\n",
    "df_normalized.rename(columns={0:'Household Income', 1:'% Southeast Asian', 2:'No. of Asian Restaurants'}, inplace=True)\n",
    "df_normalized.head()"
   ]
  },
  {
   "cell_type": "markdown",
   "metadata": {},
   "source": [
    "### 3.2 Finding Optimal k value for clustering"
   ]
  },
  {
   "cell_type": "code",
   "execution_count": 50,
   "metadata": {},
   "outputs": [
    {
     "data": {
      "image/png": "[encoded data removed]",
      "text/plain": [
       "<Figure size 936x504 with 1 Axes>"
      ]
     },
     "metadata": {},
     "output_type": "display_data"
    }
   ],
   "source": [
    "from sklearn.cluster import KMeans\n",
    "\n",
    "error_cost=[]\n",
    "\n",
    "for i in range(3, 11):\n",
    "  KM = KMeans(n_clusters=i, max_iter=100)\n",
    "  try:\n",
    "    KM.fit(df_normalized)\n",
    "\n",
    "  except ValueError:\n",
    "    print('Error on line', i)\n",
    "\n",
    "  # calculate squared error for the clustered points\n",
    "  error_cost.append(KM.inertia_ / 100)\n",
    "\n",
    "# plot the K values against the squared error cost\n",
    "plt.figure(figsize=(13,7))\n",
    "plt.plot(range(3,11), error_cost, color='r', linewidth=3)\n",
    "plt.xlabel('Number of k clusters')\n",
    "plt.ylabel('Squared Error (Cost)')\n",
    "plt.grid(color='white', linestyle='-', linewidth=2)\n",
    "\n",
    "plt.show()"
   ]
  },
  {
   "cell_type": "code",
   "execution_count": 46,
   "metadata": {},
   "outputs": [
    {
     "name": "stdout",
     "output_type": "stream",
     "text": [
      "Collecting yellowbrick\n",
      "  Downloading https://files.pythonhosted.org/packages/13/95/a14e4fdfb8b1c8753bbe74a626e910a98219ef9c87c6763585bbd30d84cf/yellowbrick-1.1-py3-none-any.whl (263kB)\n",
      "Requirement already satisfied: scipy>=1.0.0 in c:\\programdata\\anaconda3\\lib\\site-packages (from yellowbrick) (1.2.1)\n",
      "Requirement already satisfied: numpy>=1.13.0 in c:\\programdata\\anaconda3\\lib\\site-packages (from yellowbrick) (1.16.2)\n",
      "Requirement already satisfied: matplotlib!=3.0.0,>=2.0.2 in c:\\programdata\\anaconda3\\lib\\site-packages (from yellowbrick) (3.0.3)\n",
      "Requirement already satisfied: scikit-learn>=0.20 in c:\\programdata\\anaconda3\\lib\\site-packages (from yellowbrick) (0.20.3)\n",
      "Requirement already satisfied: cycler>=0.10.0 in c:\\programdata\\anaconda3\\lib\\site-packages (from yellowbrick) (0.10.0)\n",
      "Requirement already satisfied: kiwisolver>=1.0.1 in c:\\programdata\\anaconda3\\lib\\site-packages (from matplotlib!=3.0.0,>=2.0.2->yellowbrick) (1.0.1)\n",
      "Requirement already satisfied: pyparsing!=2.0.4,!=2.1.2,!=2.1.6,>=2.0.1 in c:\\programdata\\anaconda3\\lib\\site-packages (from matplotlib!=3.0.0,>=2.0.2->yellowbrick) (2.3.1)\n",
      "Requirement already satisfied: python-dateutil>=2.1 in c:\\programdata\\anaconda3\\lib\\site-packages (from matplotlib!=3.0.0,>=2.0.2->yellowbrick) (2.8.0)\n",
      "Requirement already satisfied: six in c:\\programdata\\anaconda3\\lib\\site-packages (from cycler>=0.10.0->yellowbrick) (1.12.0)\n",
      "Requirement already satisfied: setuptools in c:\\programdata\\anaconda3\\lib\\site-packages (from kiwisolver>=1.0.1->matplotlib!=3.0.0,>=2.0.2->yellowbrick) (40.8.0)\n",
      "Installing collected packages: yellowbrick\n",
      "Successfully installed yellowbrick-1.1\n",
      "Note: you may need to restart the kernel to use updated packages.\n"
     ]
    }
   ],
   "source": [
    "pip install yellowbrick"
   ]
  },
  {
   "cell_type": "code",
   "execution_count": 51,
   "metadata": {},
   "outputs": [
    {
     "data": {
      "text/plain": [
       "KElbowVisualizer(ax=<matplotlib.axes._subplots.AxesSubplot object at 0x0000021A62B5E630>,\n",
       "         k=None, locate_elbow=True, metric='distortion', model=None,\n",
       "         timings=True)"
      ]
     },
     "execution_count": 51,
     "metadata": {},
     "output_type": "execute_result"
    },
    {
     "data": {
      "image/png": "[encoded data removed]",
      "text/plain": [
       "<Figure size 576x396 with 2 Axes>"
      ]
     },
     "metadata": {},
     "output_type": "display_data"
    }
   ],
   "source": [
    "from yellowbrick.cluster import KElbowVisualizer\n",
    "\n",
    "# Instantiate the clustering model and visualizer\n",
    "model = KMeans()\n",
    "visualizer = KElbowVisualizer(model, k=(3,11))\n",
    "\n",
    "visualizer.fit(X)\n",
    "visualizer"
   ]
  },
  {
   "cell_type": "markdown",
   "metadata": {},
   "source": [
    "After analysing using elbow method using distortion score & Squared error for each K value, looks like K = 6 is the best value."
   ]
  },
  {
   "cell_type": "markdown",
   "metadata": {},
   "source": [
    "### 3.3. Clustering the Toronto Neighborhood Using K-Means with K = 6¶"
   ]
  },
  {
   "cell_type": "code",
   "execution_count": 52,
   "metadata": {},
   "outputs": [
    {
     "data": {
      "text/plain": [
       "array([0, 5, 3, 5, 4, 0, 3, 5, 4, 4])"
      ]
     },
     "execution_count": 52,
     "metadata": {},
     "output_type": "execute_result"
    }
   ],
   "source": [
    "# set number of clusters\n",
    "kclusters = 6\n",
    "\n",
    "# run k-means clustering\n",
    "kmeans = KMeans(n_clusters=kclusters, random_state=0).fit(df_normalized)\n",
    "\n",
    "# check cluster labels generated for each row in the dataframe\n",
    "kmeans.labels_[0:10]"
   ]
  },
  {
   "cell_type": "code",
   "execution_count": 53,
   "metadata": {},
   "outputs": [],
   "source": [
    "df_normalized.drop(['Household Income', '% Southeast Asian'], axis=1, inplace=True)\n",
    "df_clustered = pd.merge(df, df_normalized, left_index=True, right_index=True)\n",
    "df_clustered.insert(0, 'Cluster Label', kmeans.labels_)"
   ]
  },
  {
   "cell_type": "markdown",
   "metadata": {},
   "source": [
    "#### Visulize the clusters on a map"
   ]
  },
  {
   "cell_type": "code",
   "execution_count": 54,
   "metadata": {},
   "outputs": [
    {
     "data": {
      "text/html": [
       "<div style=\"width:100%;\"><div style=\"position:relative;width:100%;height:0;padding-bottom:60%;\"><span style=\"color:#565656\">Make this Notebook Trusted to load map: File -> Trust Notebook</span><iframe src=\"about:blank\" style=\"position:absolute;width:100%;height:100%;left:0;top:0;border:none !important;\" data-html=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 onload=\"this.contentDocument.open();this.contentDocument.write(atob(this.getAttribute('data-html')));this.contentDocument.close();\" allowfullscreen webkitallowfullscreen mozallowfullscreen></iframe></div></div>"
      ],
      "text/plain": [
       "<folium.folium.Map at 0x21a62a1ceb8>"
      ]
     },
     "execution_count": 54,
     "metadata": {},
     "output_type": "execute_result"
    }
   ],
   "source": [
    "# Matplotlib and associated plotting modules\n",
    "import matplotlib.cm as cm\n",
    "import matplotlib.colors as colors\n",
    "\n",
    "# create map\n",
    "map_clusters = folium.Map(location=[latitude,longitude], zoom_start=11)\n",
    "\n",
    "# set color schemes for the clusters\n",
    "x = np.arange(kclusters)\n",
    "ys = [i + x + (i*x)**2 for i in range(kclusters)]\n",
    "colors_array = cm.rainbow(np.linspace(0, 1, len(ys)))\n",
    "rainbow = [colors.rgb2hex(i) for i in colors_array]\n",
    "\n",
    "# add markers to the map\n",
    "markers_colors = []\n",
    "for lat, lon, poi, cluster in zip(df_clustered['Latitude'], df_clustered['Longitude'], df_clustered['Neighbourhood'], df_clustered['Cluster Label']):\n",
    "    label = folium.Popup(str(poi) + ' Cluster ' + str(cluster), parse_html=True)\n",
    "    folium.CircleMarker(\n",
    "        [lat, lon],\n",
    "        radius=5,\n",
    "        popup=label,\n",
    "        color=rainbow[cluster-1],\n",
    "        fill=True,\n",
    "        fill_color=rainbow[cluster-1],\n",
    "        fill_opacity=0.7).add_to(map_clusters)\n",
    "       \n",
    "map_clusters"
   ]
  },
  {
   "cell_type": "markdown",
   "metadata": {},
   "source": [
    "## 4. Examine clusters"
   ]
  },
  {
   "cell_type": "markdown",
   "metadata": {},
   "source": [
    "### 4.1. Cluster 0"
   ]
  },
  {
   "cell_type": "code",
   "execution_count": 56,
   "metadata": {},
   "outputs": [
    {
     "data": {
      "text/html": [
       "<div>\n",
       "<style scoped>\n",
       "    .dataframe tbody tr th:only-of-type {\n",
       "        vertical-align: middle;\n",
       "    }\n",
       "\n",
       "    .dataframe tbody tr th {\n",
       "        vertical-align: top;\n",
       "    }\n",
       "\n",
       "    .dataframe thead th {\n",
       "        text-align: right;\n",
       "    }\n",
       "</style>\n",
       "<table border=\"1\" class=\"dataframe\">\n",
       "  <thead>\n",
       "    <tr style=\"text-align: right;\">\n",
       "      <th></th>\n",
       "      <th>Cluster Label</th>\n",
       "      <th>Neighbourhood</th>\n",
       "      <th>Latitude</th>\n",
       "      <th>Longitude</th>\n",
       "      <th>Neighbourhood Id</th>\n",
       "      <th>After-Tax Household Income</th>\n",
       "      <th>Percentage of Southeast Asian</th>\n",
       "      <th>No. of Asian Restaurants</th>\n",
       "    </tr>\n",
       "  </thead>\n",
       "  <tbody>\n",
       "    <tr>\n",
       "      <th>0</th>\n",
       "      <td>0</td>\n",
       "      <td>Victoria Village</td>\n",
       "      <td>43.725882</td>\n",
       "      <td>-79.315572</td>\n",
       "      <td>43.0</td>\n",
       "      <td>43743.0</td>\n",
       "      <td>0.542547</td>\n",
       "      <td>-0.556462</td>\n",
       "    </tr>\n",
       "    <tr>\n",
       "      <th>5</th>\n",
       "      <td>0</td>\n",
       "      <td>Humewood-Cedarvale</td>\n",
       "      <td>43.693781</td>\n",
       "      <td>-79.428191</td>\n",
       "      <td>106.0</td>\n",
       "      <td>49252.0</td>\n",
       "      <td>0.556909</td>\n",
       "      <td>-0.556462</td>\n",
       "    </tr>\n",
       "    <tr>\n",
       "      <th>11</th>\n",
       "      <td>0</td>\n",
       "      <td>Woburn</td>\n",
       "      <td>43.770992</td>\n",
       "      <td>-79.216917</td>\n",
       "      <td>137.0</td>\n",
       "      <td>47908.0</td>\n",
       "      <td>0.588950</td>\n",
       "      <td>-0.556462</td>\n",
       "    </tr>\n",
       "    <tr>\n",
       "      <th>14</th>\n",
       "      <td>0</td>\n",
       "      <td>Thorncliffe Park</td>\n",
       "      <td>43.705369</td>\n",
       "      <td>-79.349372</td>\n",
       "      <td>55.0</td>\n",
       "      <td>38645.0</td>\n",
       "      <td>0.450066</td>\n",
       "      <td>-0.556462</td>\n",
       "    </tr>\n",
       "    <tr>\n",
       "      <th>15</th>\n",
       "      <td>0</td>\n",
       "      <td>Scarborough Village</td>\n",
       "      <td>43.744734</td>\n",
       "      <td>-79.239476</td>\n",
       "      <td>139.0</td>\n",
       "      <td>40181.0</td>\n",
       "      <td>0.418560</td>\n",
       "      <td>-0.556462</td>\n",
       "    </tr>\n",
       "    <tr>\n",
       "      <th>18</th>\n",
       "      <td>0</td>\n",
       "      <td>Ionview</td>\n",
       "      <td>43.727929</td>\n",
       "      <td>-79.262029</td>\n",
       "      <td>125.0</td>\n",
       "      <td>42971.0</td>\n",
       "      <td>0.989664</td>\n",
       "      <td>-0.556462</td>\n",
       "    </tr>\n",
       "    <tr>\n",
       "      <th>19</th>\n",
       "      <td>0</td>\n",
       "      <td>Kennedy Park</td>\n",
       "      <td>43.727929</td>\n",
       "      <td>-79.262029</td>\n",
       "      <td>124.0</td>\n",
       "      <td>41776.0</td>\n",
       "      <td>1.401624</td>\n",
       "      <td>-0.556462</td>\n",
       "    </tr>\n",
       "    <tr>\n",
       "      <th>21</th>\n",
       "      <td>0</td>\n",
       "      <td>Oakridge</td>\n",
       "      <td>43.711112</td>\n",
       "      <td>-79.284577</td>\n",
       "      <td>121.0</td>\n",
       "      <td>32079.0</td>\n",
       "      <td>0.902853</td>\n",
       "      <td>-0.556462</td>\n",
       "    </tr>\n",
       "    <tr>\n",
       "      <th>29</th>\n",
       "      <td>0</td>\n",
       "      <td>Roncesvalles</td>\n",
       "      <td>43.648960</td>\n",
       "      <td>-79.456325</td>\n",
       "      <td>86.0</td>\n",
       "      <td>46883.0</td>\n",
       "      <td>2.103646</td>\n",
       "      <td>-0.556462</td>\n",
       "    </tr>\n",
       "    <tr>\n",
       "      <th>32</th>\n",
       "      <td>0</td>\n",
       "      <td>New Toronto</td>\n",
       "      <td>43.605647</td>\n",
       "      <td>-79.501321</td>\n",
       "      <td>18.0</td>\n",
       "      <td>40859.0</td>\n",
       "      <td>0.915991</td>\n",
       "      <td>-0.556462</td>\n",
       "    </tr>\n",
       "    <tr>\n",
       "      <th>34</th>\n",
       "      <td>0</td>\n",
       "      <td>Long Branch</td>\n",
       "      <td>43.602414</td>\n",
       "      <td>-79.543484</td>\n",
       "      <td>19.0</td>\n",
       "      <td>47680.0</td>\n",
       "      <td>1.239587</td>\n",
       "      <td>-0.556462</td>\n",
       "    </tr>\n",
       "  </tbody>\n",
       "</table>\n",
       "</div>"
      ],
      "text/plain": [
       "    Cluster Label        Neighbourhood   Latitude  Longitude  \\\n",
       "0               0     Victoria Village  43.725882 -79.315572   \n",
       "5               0   Humewood-Cedarvale  43.693781 -79.428191   \n",
       "11              0               Woburn  43.770992 -79.216917   \n",
       "14              0     Thorncliffe Park  43.705369 -79.349372   \n",
       "15              0  Scarborough Village  43.744734 -79.239476   \n",
       "18              0              Ionview  43.727929 -79.262029   \n",
       "19              0         Kennedy Park  43.727929 -79.262029   \n",
       "21              0             Oakridge  43.711112 -79.284577   \n",
       "29              0         Roncesvalles  43.648960 -79.456325   \n",
       "32              0          New Toronto  43.605647 -79.501321   \n",
       "34              0          Long Branch  43.602414 -79.543484   \n",
       "\n",
       "    Neighbourhood Id  After-Tax Household Income  \\\n",
       "0               43.0                     43743.0   \n",
       "5              106.0                     49252.0   \n",
       "11             137.0                     47908.0   \n",
       "14              55.0                     38645.0   \n",
       "15             139.0                     40181.0   \n",
       "18             125.0                     42971.0   \n",
       "19             124.0                     41776.0   \n",
       "21             121.0                     32079.0   \n",
       "29              86.0                     46883.0   \n",
       "32              18.0                     40859.0   \n",
       "34              19.0                     47680.0   \n",
       "\n",
       "    Percentage of Southeast Asian  No. of Asian Restaurants  \n",
       "0                        0.542547                 -0.556462  \n",
       "5                        0.556909                 -0.556462  \n",
       "11                       0.588950                 -0.556462  \n",
       "14                       0.450066                 -0.556462  \n",
       "15                       0.418560                 -0.556462  \n",
       "18                       0.989664                 -0.556462  \n",
       "19                       1.401624                 -0.556462  \n",
       "21                       0.902853                 -0.556462  \n",
       "29                       2.103646                 -0.556462  \n",
       "32                       0.915991                 -0.556462  \n",
       "34                       1.239587                 -0.556462  "
      ]
     },
     "execution_count": 56,
     "metadata": {},
     "output_type": "execute_result"
    }
   ],
   "source": [
    "df_clustered.loc[df_clustered['Cluster Label'] == 0]"
   ]
  },
  {
   "cell_type": "markdown",
   "metadata": {},
   "source": [
    "### 4.2. Cluster 1"
   ]
  },
  {
   "cell_type": "code",
   "execution_count": 57,
   "metadata": {},
   "outputs": [
    {
     "data": {
      "text/html": [
       "<div>\n",
       "<style scoped>\n",
       "    .dataframe tbody tr th:only-of-type {\n",
       "        vertical-align: middle;\n",
       "    }\n",
       "\n",
       "    .dataframe tbody tr th {\n",
       "        vertical-align: top;\n",
       "    }\n",
       "\n",
       "    .dataframe thead th {\n",
       "        text-align: right;\n",
       "    }\n",
       "</style>\n",
       "<table border=\"1\" class=\"dataframe\">\n",
       "  <thead>\n",
       "    <tr style=\"text-align: right;\">\n",
       "      <th></th>\n",
       "      <th>Cluster Label</th>\n",
       "      <th>Neighbourhood</th>\n",
       "      <th>Latitude</th>\n",
       "      <th>Longitude</th>\n",
       "      <th>Neighbourhood Id</th>\n",
       "      <th>After-Tax Household Income</th>\n",
       "      <th>Percentage of Southeast Asian</th>\n",
       "      <th>No. of Asian Restaurants</th>\n",
       "    </tr>\n",
       "  </thead>\n",
       "  <tbody>\n",
       "    <tr>\n",
       "      <th>22</th>\n",
       "      <td>1</td>\n",
       "      <td>Humber Summit</td>\n",
       "      <td>43.756303</td>\n",
       "      <td>-79.565963</td>\n",
       "      <td>21.0</td>\n",
       "      <td>53272.0</td>\n",
       "      <td>3.543814</td>\n",
       "      <td>4.53996</td>\n",
       "    </tr>\n",
       "  </tbody>\n",
       "</table>\n",
       "</div>"
      ],
      "text/plain": [
       "    Cluster Label  Neighbourhood   Latitude  Longitude  Neighbourhood Id  \\\n",
       "22              1  Humber Summit  43.756303 -79.565963              21.0   \n",
       "\n",
       "    After-Tax Household Income  Percentage of Southeast Asian  \\\n",
       "22                     53272.0                       3.543814   \n",
       "\n",
       "    No. of Asian Restaurants  \n",
       "22                   4.53996  "
      ]
     },
     "execution_count": 57,
     "metadata": {},
     "output_type": "execute_result"
    }
   ],
   "source": [
    "df_clustered.loc[df_clustered['Cluster Label'] == 1]"
   ]
  },
  {
   "cell_type": "markdown",
   "metadata": {},
   "source": [
    "### 4.3. Cluster 2"
   ]
  },
  {
   "cell_type": "code",
   "execution_count": 58,
   "metadata": {},
   "outputs": [
    {
     "data": {
      "text/html": [
       "<div>\n",
       "<style scoped>\n",
       "    .dataframe tbody tr th:only-of-type {\n",
       "        vertical-align: middle;\n",
       "    }\n",
       "\n",
       "    .dataframe tbody tr th {\n",
       "        vertical-align: top;\n",
       "    }\n",
       "\n",
       "    .dataframe thead th {\n",
       "        text-align: right;\n",
       "    }\n",
       "</style>\n",
       "<table border=\"1\" class=\"dataframe\">\n",
       "  <thead>\n",
       "    <tr style=\"text-align: right;\">\n",
       "      <th></th>\n",
       "      <th>Cluster Label</th>\n",
       "      <th>Neighbourhood</th>\n",
       "      <th>Latitude</th>\n",
       "      <th>Longitude</th>\n",
       "      <th>Neighbourhood Id</th>\n",
       "      <th>After-Tax Household Income</th>\n",
       "      <th>Percentage of Southeast Asian</th>\n",
       "      <th>No. of Asian Restaurants</th>\n",
       "    </tr>\n",
       "  </thead>\n",
       "  <tbody>\n",
       "    <tr>\n",
       "      <th>24</th>\n",
       "      <td>2</td>\n",
       "      <td>Mount Dennis</td>\n",
       "      <td>43.691116</td>\n",
       "      <td>-79.476013</td>\n",
       "      <td>115.0</td>\n",
       "      <td>43790.0</td>\n",
       "      <td>4.818657</td>\n",
       "      <td>-0.556462</td>\n",
       "    </tr>\n",
       "    <tr>\n",
       "      <th>25</th>\n",
       "      <td>2</td>\n",
       "      <td>Weston</td>\n",
       "      <td>43.706876</td>\n",
       "      <td>-79.518188</td>\n",
       "      <td>113.0</td>\n",
       "      <td>41356.0</td>\n",
       "      <td>3.056914</td>\n",
       "      <td>0.453207</td>\n",
       "    </tr>\n",
       "  </tbody>\n",
       "</table>\n",
       "</div>"
      ],
      "text/plain": [
       "    Cluster Label Neighbourhood   Latitude  Longitude  Neighbourhood Id  \\\n",
       "24              2  Mount Dennis  43.691116 -79.476013             115.0   \n",
       "25              2        Weston  43.706876 -79.518188             113.0   \n",
       "\n",
       "    After-Tax Household Income  Percentage of Southeast Asian  \\\n",
       "24                     43790.0                       4.818657   \n",
       "25                     41356.0                       3.056914   \n",
       "\n",
       "    No. of Asian Restaurants  \n",
       "24                 -0.556462  \n",
       "25                  0.453207  "
      ]
     },
     "execution_count": 58,
     "metadata": {},
     "output_type": "execute_result"
    }
   ],
   "source": [
    "df_clustered.loc[df_clustered['Cluster Label'] == 2]"
   ]
  },
  {
   "cell_type": "markdown",
   "metadata": {},
   "source": [
    "### 4.4. Cluster 3"
   ]
  },
  {
   "cell_type": "code",
   "execution_count": 59,
   "metadata": {},
   "outputs": [
    {
     "data": {
      "text/html": [
       "<div>\n",
       "<style scoped>\n",
       "    .dataframe tbody tr th:only-of-type {\n",
       "        vertical-align: middle;\n",
       "    }\n",
       "\n",
       "    .dataframe tbody tr th {\n",
       "        vertical-align: top;\n",
       "    }\n",
       "\n",
       "    .dataframe thead th {\n",
       "        text-align: right;\n",
       "    }\n",
       "</style>\n",
       "<table border=\"1\" class=\"dataframe\">\n",
       "  <thead>\n",
       "    <tr style=\"text-align: right;\">\n",
       "      <th></th>\n",
       "      <th>Cluster Label</th>\n",
       "      <th>Neighbourhood</th>\n",
       "      <th>Latitude</th>\n",
       "      <th>Longitude</th>\n",
       "      <th>Neighbourhood Id</th>\n",
       "      <th>After-Tax Household Income</th>\n",
       "      <th>Percentage of Southeast Asian</th>\n",
       "      <th>No. of Asian Restaurants</th>\n",
       "    </tr>\n",
       "  </thead>\n",
       "  <tbody>\n",
       "    <tr>\n",
       "      <th>2</th>\n",
       "      <td>3</td>\n",
       "      <td>Malvern</td>\n",
       "      <td>43.806686</td>\n",
       "      <td>-79.194353</td>\n",
       "      <td>132.0</td>\n",
       "      <td>53425.0</td>\n",
       "      <td>0.456684</td>\n",
       "      <td>-0.556462</td>\n",
       "    </tr>\n",
       "    <tr>\n",
       "      <th>6</th>\n",
       "      <td>3</td>\n",
       "      <td>Markland Wood</td>\n",
       "      <td>43.643515</td>\n",
       "      <td>-79.577201</td>\n",
       "      <td>12.0</td>\n",
       "      <td>64297.0</td>\n",
       "      <td>0.473754</td>\n",
       "      <td>-0.556462</td>\n",
       "    </tr>\n",
       "    <tr>\n",
       "      <th>12</th>\n",
       "      <td>3</td>\n",
       "      <td>Hillcrest Village</td>\n",
       "      <td>43.803762</td>\n",
       "      <td>-79.363452</td>\n",
       "      <td>48.0</td>\n",
       "      <td>57682.0</td>\n",
       "      <td>0.531475</td>\n",
       "      <td>-0.556462</td>\n",
       "    </tr>\n",
       "    <tr>\n",
       "      <th>13</th>\n",
       "      <td>3</td>\n",
       "      <td>Bathurst Manor</td>\n",
       "      <td>43.754328</td>\n",
       "      <td>-79.442259</td>\n",
       "      <td>34.0</td>\n",
       "      <td>51076.0</td>\n",
       "      <td>0.945001</td>\n",
       "      <td>-0.556462</td>\n",
       "    </tr>\n",
       "    <tr>\n",
       "      <th>20</th>\n",
       "      <td>3</td>\n",
       "      <td>Bayview Village</td>\n",
       "      <td>43.786947</td>\n",
       "      <td>-79.385975</td>\n",
       "      <td>52.0</td>\n",
       "      <td>58028.0</td>\n",
       "      <td>0.934754</td>\n",
       "      <td>-0.556462</td>\n",
       "    </tr>\n",
       "    <tr>\n",
       "      <th>23</th>\n",
       "      <td>3</td>\n",
       "      <td>Cliffcrest</td>\n",
       "      <td>43.716316</td>\n",
       "      <td>-79.239476</td>\n",
       "      <td>123.0</td>\n",
       "      <td>60384.0</td>\n",
       "      <td>0.376530</td>\n",
       "      <td>0.688013</td>\n",
       "    </tr>\n",
       "    <tr>\n",
       "      <th>27</th>\n",
       "      <td>3</td>\n",
       "      <td>Forest Hill North</td>\n",
       "      <td>43.696948</td>\n",
       "      <td>-79.411307</td>\n",
       "      <td>102.0</td>\n",
       "      <td>53978.0</td>\n",
       "      <td>0.156177</td>\n",
       "      <td>-0.556462</td>\n",
       "    </tr>\n",
       "    <tr>\n",
       "      <th>28</th>\n",
       "      <td>3</td>\n",
       "      <td>Willowdale West</td>\n",
       "      <td>43.782736</td>\n",
       "      <td>-79.442259</td>\n",
       "      <td>37.0</td>\n",
       "      <td>54226.0</td>\n",
       "      <td>1.003779</td>\n",
       "      <td>-0.556462</td>\n",
       "    </tr>\n",
       "    <tr>\n",
       "      <th>30</th>\n",
       "      <td>3</td>\n",
       "      <td>Agincourt North</td>\n",
       "      <td>43.815252</td>\n",
       "      <td>-79.284577</td>\n",
       "      <td>129.0</td>\n",
       "      <td>55893.0</td>\n",
       "      <td>0.893072</td>\n",
       "      <td>0.129595</td>\n",
       "    </tr>\n",
       "    <tr>\n",
       "      <th>31</th>\n",
       "      <td>3</td>\n",
       "      <td>Milliken</td>\n",
       "      <td>43.815252</td>\n",
       "      <td>-79.284577</td>\n",
       "      <td>130.0</td>\n",
       "      <td>55464.0</td>\n",
       "      <td>0.903206</td>\n",
       "      <td>0.129595</td>\n",
       "    </tr>\n",
       "    <tr>\n",
       "      <th>33</th>\n",
       "      <td>3</td>\n",
       "      <td>Alderwood</td>\n",
       "      <td>43.602414</td>\n",
       "      <td>-79.543484</td>\n",
       "      <td>20.0</td>\n",
       "      <td>61402.0</td>\n",
       "      <td>0.456280</td>\n",
       "      <td>-0.556462</td>\n",
       "    </tr>\n",
       "  </tbody>\n",
       "</table>\n",
       "</div>"
      ],
      "text/plain": [
       "    Cluster Label      Neighbourhood   Latitude  Longitude  Neighbourhood Id  \\\n",
       "2               3            Malvern  43.806686 -79.194353             132.0   \n",
       "6               3      Markland Wood  43.643515 -79.577201              12.0   \n",
       "12              3  Hillcrest Village  43.803762 -79.363452              48.0   \n",
       "13              3     Bathurst Manor  43.754328 -79.442259              34.0   \n",
       "20              3    Bayview Village  43.786947 -79.385975              52.0   \n",
       "23              3         Cliffcrest  43.716316 -79.239476             123.0   \n",
       "27              3  Forest Hill North  43.696948 -79.411307             102.0   \n",
       "28              3    Willowdale West  43.782736 -79.442259              37.0   \n",
       "30              3    Agincourt North  43.815252 -79.284577             129.0   \n",
       "31              3           Milliken  43.815252 -79.284577             130.0   \n",
       "33              3          Alderwood  43.602414 -79.543484              20.0   \n",
       "\n",
       "    After-Tax Household Income  Percentage of Southeast Asian  \\\n",
       "2                      53425.0                       0.456684   \n",
       "6                      64297.0                       0.473754   \n",
       "12                     57682.0                       0.531475   \n",
       "13                     51076.0                       0.945001   \n",
       "20                     58028.0                       0.934754   \n",
       "23                     60384.0                       0.376530   \n",
       "27                     53978.0                       0.156177   \n",
       "28                     54226.0                       1.003779   \n",
       "30                     55893.0                       0.893072   \n",
       "31                     55464.0                       0.903206   \n",
       "33                     61402.0                       0.456280   \n",
       "\n",
       "    No. of Asian Restaurants  \n",
       "2                  -0.556462  \n",
       "6                  -0.556462  \n",
       "12                 -0.556462  \n",
       "13                 -0.556462  \n",
       "20                 -0.556462  \n",
       "23                  0.688013  \n",
       "27                 -0.556462  \n",
       "28                 -0.556462  \n",
       "30                  0.129595  \n",
       "31                  0.129595  \n",
       "33                 -0.556462  "
      ]
     },
     "execution_count": 59,
     "metadata": {},
     "output_type": "execute_result"
    }
   ],
   "source": [
    "df_clustered.loc[df_clustered['Cluster Label'] == 3]"
   ]
  },
  {
   "cell_type": "markdown",
   "metadata": {},
   "source": [
    "### 4.5. Cluster 4"
   ]
  },
  {
   "cell_type": "code",
   "execution_count": 60,
   "metadata": {},
   "outputs": [
    {
     "data": {
      "text/html": [
       "<div>\n",
       "<style scoped>\n",
       "    .dataframe tbody tr th:only-of-type {\n",
       "        vertical-align: middle;\n",
       "    }\n",
       "\n",
       "    .dataframe tbody tr th {\n",
       "        vertical-align: top;\n",
       "    }\n",
       "\n",
       "    .dataframe thead th {\n",
       "        text-align: right;\n",
       "    }\n",
       "</style>\n",
       "<table border=\"1\" class=\"dataframe\">\n",
       "  <thead>\n",
       "    <tr style=\"text-align: right;\">\n",
       "      <th></th>\n",
       "      <th>Cluster Label</th>\n",
       "      <th>Neighbourhood</th>\n",
       "      <th>Latitude</th>\n",
       "      <th>Longitude</th>\n",
       "      <th>Neighbourhood Id</th>\n",
       "      <th>After-Tax Household Income</th>\n",
       "      <th>Percentage of Southeast Asian</th>\n",
       "      <th>No. of Asian Restaurants</th>\n",
       "    </tr>\n",
       "  </thead>\n",
       "  <tbody>\n",
       "    <tr>\n",
       "      <th>4</th>\n",
       "      <td>4</td>\n",
       "      <td>Flemingdon Park</td>\n",
       "      <td>43.725900</td>\n",
       "      <td>-79.340923</td>\n",
       "      <td>44.0</td>\n",
       "      <td>43511.0</td>\n",
       "      <td>1.048648</td>\n",
       "      <td>0.748720</td>\n",
       "    </tr>\n",
       "    <tr>\n",
       "      <th>8</th>\n",
       "      <td>4</td>\n",
       "      <td>Morningside</td>\n",
       "      <td>43.763573</td>\n",
       "      <td>-79.188711</td>\n",
       "      <td>135.0</td>\n",
       "      <td>50069.0</td>\n",
       "      <td>1.203094</td>\n",
       "      <td>1.288795</td>\n",
       "    </tr>\n",
       "    <tr>\n",
       "      <th>9</th>\n",
       "      <td>4</td>\n",
       "      <td>West Hill</td>\n",
       "      <td>43.763573</td>\n",
       "      <td>-79.188711</td>\n",
       "      <td>136.0</td>\n",
       "      <td>46803.0</td>\n",
       "      <td>0.784901</td>\n",
       "      <td>1.288795</td>\n",
       "    </tr>\n",
       "    <tr>\n",
       "      <th>16</th>\n",
       "      <td>4</td>\n",
       "      <td>Henry Farm</td>\n",
       "      <td>43.778517</td>\n",
       "      <td>-79.346556</td>\n",
       "      <td>53.0</td>\n",
       "      <td>47659.0</td>\n",
       "      <td>0.731413</td>\n",
       "      <td>0.292942</td>\n",
       "    </tr>\n",
       "    <tr>\n",
       "      <th>17</th>\n",
       "      <td>4</td>\n",
       "      <td>Little Portugal</td>\n",
       "      <td>43.647927</td>\n",
       "      <td>-79.419750</td>\n",
       "      <td>84.0</td>\n",
       "      <td>52519.0</td>\n",
       "      <td>2.088823</td>\n",
       "      <td>1.048911</td>\n",
       "    </tr>\n",
       "    <tr>\n",
       "      <th>26</th>\n",
       "      <td>4</td>\n",
       "      <td>Dorset Park</td>\n",
       "      <td>43.757410</td>\n",
       "      <td>-79.273304</td>\n",
       "      <td>126.0</td>\n",
       "      <td>47630.0</td>\n",
       "      <td>1.059873</td>\n",
       "      <td>0.366166</td>\n",
       "    </tr>\n",
       "  </tbody>\n",
       "</table>\n",
       "</div>"
      ],
      "text/plain": [
       "    Cluster Label    Neighbourhood   Latitude  Longitude  Neighbourhood Id  \\\n",
       "4               4  Flemingdon Park  43.725900 -79.340923              44.0   \n",
       "8               4      Morningside  43.763573 -79.188711             135.0   \n",
       "9               4        West Hill  43.763573 -79.188711             136.0   \n",
       "16              4       Henry Farm  43.778517 -79.346556              53.0   \n",
       "17              4  Little Portugal  43.647927 -79.419750              84.0   \n",
       "26              4      Dorset Park  43.757410 -79.273304             126.0   \n",
       "\n",
       "    After-Tax Household Income  Percentage of Southeast Asian  \\\n",
       "4                      43511.0                       1.048648   \n",
       "8                      50069.0                       1.203094   \n",
       "9                      46803.0                       0.784901   \n",
       "16                     47659.0                       0.731413   \n",
       "17                     52519.0                       2.088823   \n",
       "26                     47630.0                       1.059873   \n",
       "\n",
       "    No. of Asian Restaurants  \n",
       "4                   0.748720  \n",
       "8                   1.288795  \n",
       "9                   1.288795  \n",
       "16                  0.292942  \n",
       "17                  1.048911  \n",
       "26                  0.366166  "
      ]
     },
     "execution_count": 60,
     "metadata": {},
     "output_type": "execute_result"
    }
   ],
   "source": [
    "df_clustered.loc[df_clustered['Cluster Label'] == 4]"
   ]
  },
  {
   "cell_type": "markdown",
   "metadata": {},
   "source": [
    "### 4.6. Cluster 5"
   ]
  },
  {
   "cell_type": "code",
   "execution_count": 61,
   "metadata": {},
   "outputs": [
    {
     "data": {
      "text/html": [
       "<div>\n",
       "<style scoped>\n",
       "    .dataframe tbody tr th:only-of-type {\n",
       "        vertical-align: middle;\n",
       "    }\n",
       "\n",
       "    .dataframe tbody tr th {\n",
       "        vertical-align: top;\n",
       "    }\n",
       "\n",
       "    .dataframe thead th {\n",
       "        text-align: right;\n",
       "    }\n",
       "</style>\n",
       "<table border=\"1\" class=\"dataframe\">\n",
       "  <thead>\n",
       "    <tr style=\"text-align: right;\">\n",
       "      <th></th>\n",
       "      <th>Cluster Label</th>\n",
       "      <th>Neighbourhood</th>\n",
       "      <th>Latitude</th>\n",
       "      <th>Longitude</th>\n",
       "      <th>Neighbourhood Id</th>\n",
       "      <th>After-Tax Household Income</th>\n",
       "      <th>Percentage of Southeast Asian</th>\n",
       "      <th>No. of Asian Restaurants</th>\n",
       "    </tr>\n",
       "  </thead>\n",
       "  <tbody>\n",
       "    <tr>\n",
       "      <th>1</th>\n",
       "      <td>5</td>\n",
       "      <td>Rouge</td>\n",
       "      <td>43.806686</td>\n",
       "      <td>-79.194353</td>\n",
       "      <td>131.0</td>\n",
       "      <td>72784.0</td>\n",
       "      <td>0.634463</td>\n",
       "      <td>-0.556462</td>\n",
       "    </tr>\n",
       "    <tr>\n",
       "      <th>3</th>\n",
       "      <td>5</td>\n",
       "      <td>Highland Creek</td>\n",
       "      <td>43.784535</td>\n",
       "      <td>-79.160497</td>\n",
       "      <td>134.0</td>\n",
       "      <td>87321.0</td>\n",
       "      <td>0.680327</td>\n",
       "      <td>-0.556462</td>\n",
       "    </tr>\n",
       "    <tr>\n",
       "      <th>7</th>\n",
       "      <td>5</td>\n",
       "      <td>Guildwood</td>\n",
       "      <td>43.763573</td>\n",
       "      <td>-79.188711</td>\n",
       "      <td>140.0</td>\n",
       "      <td>67678.0</td>\n",
       "      <td>0.705859</td>\n",
       "      <td>1.288795</td>\n",
       "    </tr>\n",
       "    <tr>\n",
       "      <th>10</th>\n",
       "      <td>5</td>\n",
       "      <td>The Beaches</td>\n",
       "      <td>43.676357</td>\n",
       "      <td>-79.293031</td>\n",
       "      <td>63.0</td>\n",
       "      <td>70957.0</td>\n",
       "      <td>0.741874</td>\n",
       "      <td>-0.021337</td>\n",
       "    </tr>\n",
       "  </tbody>\n",
       "</table>\n",
       "</div>"
      ],
      "text/plain": [
       "    Cluster Label   Neighbourhood   Latitude  Longitude  Neighbourhood Id  \\\n",
       "1               5           Rouge  43.806686 -79.194353             131.0   \n",
       "3               5  Highland Creek  43.784535 -79.160497             134.0   \n",
       "7               5       Guildwood  43.763573 -79.188711             140.0   \n",
       "10              5     The Beaches  43.676357 -79.293031              63.0   \n",
       "\n",
       "    After-Tax Household Income  Percentage of Southeast Asian  \\\n",
       "1                      72784.0                       0.634463   \n",
       "3                      87321.0                       0.680327   \n",
       "7                      67678.0                       0.705859   \n",
       "10                     70957.0                       0.741874   \n",
       "\n",
       "    No. of Asian Restaurants  \n",
       "1                  -0.556462  \n",
       "3                  -0.556462  \n",
       "7                   1.288795  \n",
       "10                 -0.021337  "
      ]
     },
     "execution_count": 61,
     "metadata": {},
     "output_type": "execute_result"
    }
   ],
   "source": [
    "df_clustered.loc[df_clustered['Cluster Label'] == 5]"
   ]
  },
  {
   "cell_type": "code",
   "execution_count": null,
   "metadata": {},
   "outputs": [],
   "source": []
  }
 ],
 "metadata": {
  "kernelspec": {
   "display_name": "Python 3",
   "language": "python",
   "name": "python3"
  },
  "language_info": {
   "codemirror_mode": {
    "name": "ipython",
    "version": 3
   },
   "file_extension": ".py",
   "mimetype": "text/x-python",
   "name": "python",
   "nbconvert_exporter": "python",
   "pygments_lexer": "ipython3",
   "version": "3.7.3"
  }
 },
 "nbformat": 4,
 "nbformat_minor": 2
}
